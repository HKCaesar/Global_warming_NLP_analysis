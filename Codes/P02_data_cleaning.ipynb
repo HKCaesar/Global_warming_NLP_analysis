{
 "cells": [
  {
   "cell_type": "markdown",
   "metadata": {},
   "source": [
    "## The global warming issue and Narratives around it<br>\n",
    "### Part 2: Cleaning the imported data and doing a brief EDA for early assessment. Finally pickling the merged dataframe into a global dataframe\n",
    "\n",
    "In this notebook, I cleaned the imported API dataframe and saved it as a clean version into \"../datasets\" folder for further processing."
   ]
  },
  {
   "cell_type": "markdown",
   "metadata": {},
   "source": [
    "Importing the required libraries:"
   ]
  },
  {
   "cell_type": "code",
   "execution_count": 1,
   "metadata": {},
   "outputs": [],
   "source": [
    "#imports\n",
    "import pandas as pd\n",
    "import regex as re\n",
    "import warnings\n",
    "warnings.filterwarnings('ignore')\n",
    "from nltk.corpus import stopwords # Import the stopword list\n",
    "\n",
    "from nltk.stem.porter import PorterStemmer\n",
    "from nltk.stem import WordNetLemmatizer\n",
    "\n",
    "import pickle"
   ]
  },
  {
   "cell_type": "markdown",
   "metadata": {},
   "source": [
    "### Part 2.1: Importing the saved raw data from reddit API and cleaning"
   ]
  },
  {
   "cell_type": "code",
   "execution_count": 2,
   "metadata": {},
   "outputs": [
    {
     "data": {
      "text/html": [
       "<div>\n",
       "<style scoped>\n",
       "    .dataframe tbody tr th:only-of-type {\n",
       "        vertical-align: middle;\n",
       "    }\n",
       "\n",
       "    .dataframe tbody tr th {\n",
       "        vertical-align: top;\n",
       "    }\n",
       "\n",
       "    .dataframe thead th {\n",
       "        text-align: right;\n",
       "    }\n",
       "</style>\n",
       "<table border=\"1\" class=\"dataframe\">\n",
       "  <thead>\n",
       "    <tr style=\"text-align: right;\">\n",
       "      <th></th>\n",
       "      <th>author</th>\n",
       "      <th>created_utc</th>\n",
       "      <th>domain</th>\n",
       "      <th>id</th>\n",
       "      <th>num_comments</th>\n",
       "      <th>over_18</th>\n",
       "      <th>post_hint</th>\n",
       "      <th>score</th>\n",
       "      <th>selftext</th>\n",
       "      <th>title</th>\n",
       "    </tr>\n",
       "  </thead>\n",
       "  <tbody>\n",
       "    <tr>\n",
       "      <th>0</th>\n",
       "      <td>Kafka15</td>\n",
       "      <td>1593554514</td>\n",
       "      <td>i.redd.it</td>\n",
       "      <td>hixbtf</td>\n",
       "      <td>2</td>\n",
       "      <td>False</td>\n",
       "      <td>image</td>\n",
       "      <td>1</td>\n",
       "      <td>NaN</td>\n",
       "      <td>Cum</td>\n",
       "    </tr>\n",
       "    <tr>\n",
       "      <th>1</th>\n",
       "      <td>karan_negiiiii</td>\n",
       "      <td>1593497051</td>\n",
       "      <td>boringworld.org</td>\n",
       "      <td>hihj6s</td>\n",
       "      <td>0</td>\n",
       "      <td>False</td>\n",
       "      <td>NaN</td>\n",
       "      <td>1</td>\n",
       "      <td>NaN</td>\n",
       "      <td>Climate Change in india.</td>\n",
       "    </tr>\n",
       "    <tr>\n",
       "      <th>2</th>\n",
       "      <td>Hildavardr</td>\n",
       "      <td>1593479932</td>\n",
       "      <td>self.GlobalWarming</td>\n",
       "      <td>hidb5h</td>\n",
       "      <td>0</td>\n",
       "      <td>False</td>\n",
       "      <td>NaN</td>\n",
       "      <td>1</td>\n",
       "      <td>[removed]</td>\n",
       "      <td>Global warming and the responsibility of big I...</td>\n",
       "    </tr>\n",
       "    <tr>\n",
       "      <th>3</th>\n",
       "      <td>pEppapiGistfuhrer</td>\n",
       "      <td>1593455137</td>\n",
       "      <td>i.redd.it</td>\n",
       "      <td>hi5h41</td>\n",
       "      <td>1</td>\n",
       "      <td>False</td>\n",
       "      <td>image</td>\n",
       "      <td>1</td>\n",
       "      <td>NaN</td>\n",
       "      <td>Ayy lets stop global warming</td>\n",
       "    </tr>\n",
       "    <tr>\n",
       "      <th>4</th>\n",
       "      <td>BrexitBlaze</td>\n",
       "      <td>1593455005</td>\n",
       "      <td>theguardian.com</td>\n",
       "      <td>hi5feq</td>\n",
       "      <td>2</td>\n",
       "      <td>False</td>\n",
       "      <td>link</td>\n",
       "      <td>2</td>\n",
       "      <td>NaN</td>\n",
       "      <td>UK ministers send mixed messages over climate ...</td>\n",
       "    </tr>\n",
       "    <tr>\n",
       "      <th>5</th>\n",
       "      <td>ManesJr</td>\n",
       "      <td>1593451635</td>\n",
       "      <td>i.redd.it</td>\n",
       "      <td>hi493l</td>\n",
       "      <td>1</td>\n",
       "      <td>False</td>\n",
       "      <td>image</td>\n",
       "      <td>1</td>\n",
       "      <td>NaN</td>\n",
       "      <td>Mmm yes</td>\n",
       "    </tr>\n",
       "    <tr>\n",
       "      <th>6</th>\n",
       "      <td>-i-love-downvotes-</td>\n",
       "      <td>1593433887</td>\n",
       "      <td>i.redd.it</td>\n",
       "      <td>hhyzxy</td>\n",
       "      <td>1</td>\n",
       "      <td>False</td>\n",
       "      <td>image</td>\n",
       "      <td>1</td>\n",
       "      <td>NaN</td>\n",
       "      <td>Oh yeeaahh</td>\n",
       "    </tr>\n",
       "    <tr>\n",
       "      <th>7</th>\n",
       "      <td>BrexitBlaze</td>\n",
       "      <td>1593425020</td>\n",
       "      <td>bbc.com</td>\n",
       "      <td>hhx644</td>\n",
       "      <td>1</td>\n",
       "      <td>False</td>\n",
       "      <td>link</td>\n",
       "      <td>1</td>\n",
       "      <td>NaN</td>\n",
       "      <td>Extra £14bn needed a year for climate, report ...</td>\n",
       "    </tr>\n",
       "    <tr>\n",
       "      <th>8</th>\n",
       "      <td>Robo4575</td>\n",
       "      <td>1593401210</td>\n",
       "      <td>self.climate</td>\n",
       "      <td>hhsg4o</td>\n",
       "      <td>3</td>\n",
       "      <td>False</td>\n",
       "      <td>link</td>\n",
       "      <td>2</td>\n",
       "      <td>NaN</td>\n",
       "      <td>Check out these global warming t shirts</td>\n",
       "    </tr>\n",
       "    <tr>\n",
       "      <th>9</th>\n",
       "      <td>ballzy94</td>\n",
       "      <td>1593370971</td>\n",
       "      <td>youtube.com</td>\n",
       "      <td>hhk71m</td>\n",
       "      <td>0</td>\n",
       "      <td>False</td>\n",
       "      <td>rich:video</td>\n",
       "      <td>1</td>\n",
       "      <td>NaN</td>\n",
       "      <td>Technologies Protecting our Trees.</td>\n",
       "    </tr>\n",
       "  </tbody>\n",
       "</table>\n",
       "</div>"
      ],
      "text/plain": [
       "               author  created_utc              domain      id  num_comments  \\\n",
       "0             Kafka15   1593554514           i.redd.it  hixbtf             2   \n",
       "1      karan_negiiiii   1593497051     boringworld.org  hihj6s             0   \n",
       "2          Hildavardr   1593479932  self.GlobalWarming  hidb5h             0   \n",
       "3   pEppapiGistfuhrer   1593455137           i.redd.it  hi5h41             1   \n",
       "4         BrexitBlaze   1593455005     theguardian.com  hi5feq             2   \n",
       "5             ManesJr   1593451635           i.redd.it  hi493l             1   \n",
       "6  -i-love-downvotes-   1593433887           i.redd.it  hhyzxy             1   \n",
       "7         BrexitBlaze   1593425020             bbc.com  hhx644             1   \n",
       "8            Robo4575   1593401210        self.climate  hhsg4o             3   \n",
       "9            ballzy94   1593370971         youtube.com  hhk71m             0   \n",
       "\n",
       "   over_18   post_hint  score   selftext  \\\n",
       "0    False       image      1        NaN   \n",
       "1    False         NaN      1        NaN   \n",
       "2    False         NaN      1  [removed]   \n",
       "3    False       image      1        NaN   \n",
       "4    False        link      2        NaN   \n",
       "5    False       image      1        NaN   \n",
       "6    False       image      1        NaN   \n",
       "7    False        link      1        NaN   \n",
       "8    False        link      2        NaN   \n",
       "9    False  rich:video      1        NaN   \n",
       "\n",
       "                                               title  \n",
       "0                                                Cum  \n",
       "1                           Climate Change in india.  \n",
       "2  Global warming and the responsibility of big I...  \n",
       "3                       Ayy lets stop global warming  \n",
       "4  UK ministers send mixed messages over climate ...  \n",
       "5                                            Mmm yes  \n",
       "6                                         Oh yeeaahh  \n",
       "7  Extra £14bn needed a year for climate, report ...  \n",
       "8            Check out these global warming t shirts  \n",
       "9                 Technologies Protecting our Trees.  "
      ]
     },
     "execution_count": 2,
     "metadata": {},
     "output_type": "execute_result"
    }
   ],
   "source": [
    "#Global warming\n",
    "file_path = \"../datasets/\" + \"GlobalWarming\" + \"_raw\" + \".csv\"\n",
    "df_gw = pd.read_csv(file_path)\n",
    "\n",
    "# Keeping only a few columns which will be helpful during analysis\n",
    "to_keep_clmns = ['author', 'created_utc', 'domain', 'id', 'num_comments', 'over_18',\n",
    "       'post_hint', 'score', 'selftext',\n",
    "       'title']\n",
    "\n",
    "df_gw_clean = df_gw[to_keep_clmns]\n",
    "\n",
    "\n",
    "df_gw_clean.head(10)"
   ]
  },
  {
   "cell_type": "code",
   "execution_count": 3,
   "metadata": {},
   "outputs": [
    {
     "data": {
      "text/plain": [
       "(3934, 10)"
      ]
     },
     "execution_count": 3,
     "metadata": {},
     "output_type": "execute_result"
    }
   ],
   "source": [
    "df_gw_clean.shape"
   ]
  },
  {
   "cell_type": "code",
   "execution_count": 4,
   "metadata": {},
   "outputs": [
    {
     "data": {
      "text/plain": [
       "author             0\n",
       "created_utc        0\n",
       "domain             0\n",
       "id                 0\n",
       "num_comments       0\n",
       "over_18            0\n",
       "post_hint       2828\n",
       "score              0\n",
       "selftext        2815\n",
       "title              0\n",
       "dtype: int64"
      ]
     },
     "execution_count": 4,
     "metadata": {},
     "output_type": "execute_result"
    }
   ],
   "source": [
    "df_gw_clean.isnull().sum()"
   ]
  },
  {
   "cell_type": "markdown",
   "metadata": {},
   "source": [
    "Imputation time: Imputing the useful columns, dropping the useless columns, which also have many missing values."
   ]
  },
  {
   "cell_type": "code",
   "execution_count": 5,
   "metadata": {},
   "outputs": [],
   "source": [
    "#For title and selftext columns, I filled them with \" \" as they will be striped later, so I can merge them later.\n",
    "\n",
    "df_gw_clean[\"title\"].fillna(\" \", inplace=True)\n",
    "df_gw_clean[\"selftext\"].fillna(\" \", inplace=True)\n",
    "\n",
    "#Merging the title and selftext for further processing\n",
    "\n",
    "df_gw_clean['text_merged'] = df_gw_clean['title'] + \" \" + df_gw_clean['selftext']\n",
    "df_gw_clean.drop(columns = [\"title\", \"selftext\"], inplace=True)\n",
    "\n",
    "#For post_hint, I imputed them with \"Empty\"\n",
    "df_gw_clean['post_hint'].fillna(\"Empty\", inplace=True)"
   ]
  },
  {
   "cell_type": "markdown",
   "metadata": {},
   "source": [
    "Checking the datatypes and also whether all columns have no NaN values:"
   ]
  },
  {
   "cell_type": "code",
   "execution_count": 6,
   "metadata": {},
   "outputs": [
    {
     "name": "stdout",
     "output_type": "stream",
     "text": [
      "<class 'pandas.core.frame.DataFrame'>\n",
      "RangeIndex: 3934 entries, 0 to 3933\n",
      "Data columns (total 9 columns):\n",
      " #   Column        Non-Null Count  Dtype \n",
      "---  ------        --------------  ----- \n",
      " 0   author        3934 non-null   object\n",
      " 1   created_utc   3934 non-null   int64 \n",
      " 2   domain        3934 non-null   object\n",
      " 3   id            3934 non-null   object\n",
      " 4   num_comments  3934 non-null   int64 \n",
      " 5   over_18       3934 non-null   bool  \n",
      " 6   post_hint     3934 non-null   object\n",
      " 7   score         3934 non-null   int64 \n",
      " 8   text_merged   3934 non-null   object\n",
      "dtypes: bool(1), int64(3), object(5)\n",
      "memory usage: 249.8+ KB\n"
     ]
    }
   ],
   "source": [
    "df_gw_clean.info()"
   ]
  },
  {
   "cell_type": "markdown",
   "metadata": {},
   "source": [
    "And, checking the final dataframe produced:"
   ]
  },
  {
   "cell_type": "code",
   "execution_count": 7,
   "metadata": {},
   "outputs": [
    {
     "data": {
      "text/html": [
       "<div>\n",
       "<style scoped>\n",
       "    .dataframe tbody tr th:only-of-type {\n",
       "        vertical-align: middle;\n",
       "    }\n",
       "\n",
       "    .dataframe tbody tr th {\n",
       "        vertical-align: top;\n",
       "    }\n",
       "\n",
       "    .dataframe thead th {\n",
       "        text-align: right;\n",
       "    }\n",
       "</style>\n",
       "<table border=\"1\" class=\"dataframe\">\n",
       "  <thead>\n",
       "    <tr style=\"text-align: right;\">\n",
       "      <th></th>\n",
       "      <th>author</th>\n",
       "      <th>created_utc</th>\n",
       "      <th>domain</th>\n",
       "      <th>id</th>\n",
       "      <th>num_comments</th>\n",
       "      <th>over_18</th>\n",
       "      <th>post_hint</th>\n",
       "      <th>score</th>\n",
       "      <th>text_merged</th>\n",
       "    </tr>\n",
       "  </thead>\n",
       "  <tbody>\n",
       "    <tr>\n",
       "      <th>0</th>\n",
       "      <td>Kafka15</td>\n",
       "      <td>1593554514</td>\n",
       "      <td>i.redd.it</td>\n",
       "      <td>hixbtf</td>\n",
       "      <td>2</td>\n",
       "      <td>False</td>\n",
       "      <td>image</td>\n",
       "      <td>1</td>\n",
       "      <td>Cum</td>\n",
       "    </tr>\n",
       "    <tr>\n",
       "      <th>1</th>\n",
       "      <td>karan_negiiiii</td>\n",
       "      <td>1593497051</td>\n",
       "      <td>boringworld.org</td>\n",
       "      <td>hihj6s</td>\n",
       "      <td>0</td>\n",
       "      <td>False</td>\n",
       "      <td>Empty</td>\n",
       "      <td>1</td>\n",
       "      <td>Climate Change in india.</td>\n",
       "    </tr>\n",
       "    <tr>\n",
       "      <th>2</th>\n",
       "      <td>Hildavardr</td>\n",
       "      <td>1593479932</td>\n",
       "      <td>self.GlobalWarming</td>\n",
       "      <td>hidb5h</td>\n",
       "      <td>0</td>\n",
       "      <td>False</td>\n",
       "      <td>Empty</td>\n",
       "      <td>1</td>\n",
       "      <td>Global warming and the responsibility of big I...</td>\n",
       "    </tr>\n",
       "    <tr>\n",
       "      <th>3</th>\n",
       "      <td>pEppapiGistfuhrer</td>\n",
       "      <td>1593455137</td>\n",
       "      <td>i.redd.it</td>\n",
       "      <td>hi5h41</td>\n",
       "      <td>1</td>\n",
       "      <td>False</td>\n",
       "      <td>image</td>\n",
       "      <td>1</td>\n",
       "      <td>Ayy lets stop global warming</td>\n",
       "    </tr>\n",
       "    <tr>\n",
       "      <th>4</th>\n",
       "      <td>BrexitBlaze</td>\n",
       "      <td>1593455005</td>\n",
       "      <td>theguardian.com</td>\n",
       "      <td>hi5feq</td>\n",
       "      <td>2</td>\n",
       "      <td>False</td>\n",
       "      <td>link</td>\n",
       "      <td>2</td>\n",
       "      <td>UK ministers send mixed messages over climate ...</td>\n",
       "    </tr>\n",
       "  </tbody>\n",
       "</table>\n",
       "</div>"
      ],
      "text/plain": [
       "              author  created_utc              domain      id  num_comments  \\\n",
       "0            Kafka15   1593554514           i.redd.it  hixbtf             2   \n",
       "1     karan_negiiiii   1593497051     boringworld.org  hihj6s             0   \n",
       "2         Hildavardr   1593479932  self.GlobalWarming  hidb5h             0   \n",
       "3  pEppapiGistfuhrer   1593455137           i.redd.it  hi5h41             1   \n",
       "4        BrexitBlaze   1593455005     theguardian.com  hi5feq             2   \n",
       "\n",
       "   over_18 post_hint  score                                        text_merged  \n",
       "0    False     image      1                                              Cum    \n",
       "1    False     Empty      1                         Climate Change in india.    \n",
       "2    False     Empty      1  Global warming and the responsibility of big I...  \n",
       "3    False     image      1                     Ayy lets stop global warming    \n",
       "4    False      link      2  UK ministers send mixed messages over climate ...  "
      ]
     },
     "execution_count": 7,
     "metadata": {},
     "output_type": "execute_result"
    }
   ],
   "source": [
    "df_gw_clean.head()"
   ]
  },
  {
   "cell_type": "code",
   "execution_count": 8,
   "metadata": {},
   "outputs": [
    {
     "data": {
      "text/plain": [
       "'If we stop corona, we die of gw. If we stop gw. We die of corona [removed]'"
      ]
     },
     "execution_count": 8,
     "metadata": {},
     "output_type": "execute_result"
    }
   ],
   "source": [
    "df_gw_clean.loc[15,\"text_merged\"]"
   ]
  },
  {
   "cell_type": "markdown",
   "metadata": {},
   "source": [
    "#### **Everything looks good here !**"
   ]
  },
  {
   "cell_type": "markdown",
   "metadata": {},
   "source": [
    "### Part 2.2: Importing the saved raw data from reddit API and cleaning"
   ]
  },
  {
   "cell_type": "code",
   "execution_count": 9,
   "metadata": {},
   "outputs": [
    {
     "data": {
      "text/html": [
       "<div>\n",
       "<style scoped>\n",
       "    .dataframe tbody tr th:only-of-type {\n",
       "        vertical-align: middle;\n",
       "    }\n",
       "\n",
       "    .dataframe tbody tr th {\n",
       "        vertical-align: top;\n",
       "    }\n",
       "\n",
       "    .dataframe thead th {\n",
       "        text-align: right;\n",
       "    }\n",
       "</style>\n",
       "<table border=\"1\" class=\"dataframe\">\n",
       "  <thead>\n",
       "    <tr style=\"text-align: right;\">\n",
       "      <th></th>\n",
       "      <th>author</th>\n",
       "      <th>created_utc</th>\n",
       "      <th>domain</th>\n",
       "      <th>id</th>\n",
       "      <th>num_comments</th>\n",
       "      <th>over_18</th>\n",
       "      <th>post_hint</th>\n",
       "      <th>score</th>\n",
       "      <th>selftext</th>\n",
       "      <th>title</th>\n",
       "    </tr>\n",
       "  </thead>\n",
       "  <tbody>\n",
       "    <tr>\n",
       "      <th>0</th>\n",
       "      <td>LonelyHampster</td>\n",
       "      <td>1581513470</td>\n",
       "      <td>self.ConspiracyTheory</td>\n",
       "      <td>f2r2s5</td>\n",
       "      <td>22</td>\n",
       "      <td>False</td>\n",
       "      <td>NaN</td>\n",
       "      <td>1</td>\n",
       "      <td>Recently me and some of my friends have been n...</td>\n",
       "      <td>Jimmy Fallon might be in the closet gay, or Bi...</td>\n",
       "    </tr>\n",
       "    <tr>\n",
       "      <th>1</th>\n",
       "      <td>Switchkillengaged</td>\n",
       "      <td>1581312224</td>\n",
       "      <td>self.ConspiracyTheory</td>\n",
       "      <td>f1lp26</td>\n",
       "      <td>6</td>\n",
       "      <td>False</td>\n",
       "      <td>NaN</td>\n",
       "      <td>1</td>\n",
       "      <td>We've always known the president to be a good ...</td>\n",
       "      <td>Theory: Illuminati got Trump in office to crea...</td>\n",
       "    </tr>\n",
       "  </tbody>\n",
       "</table>\n",
       "</div>"
      ],
      "text/plain": [
       "              author  created_utc                 domain      id  \\\n",
       "0     LonelyHampster   1581513470  self.ConspiracyTheory  f2r2s5   \n",
       "1  Switchkillengaged   1581312224  self.ConspiracyTheory  f1lp26   \n",
       "\n",
       "   num_comments  over_18 post_hint  score  \\\n",
       "0            22    False       NaN      1   \n",
       "1             6    False       NaN      1   \n",
       "\n",
       "                                            selftext  \\\n",
       "0  Recently me and some of my friends have been n...   \n",
       "1  We've always known the president to be a good ...   \n",
       "\n",
       "                                               title  \n",
       "0  Jimmy Fallon might be in the closet gay, or Bi...  \n",
       "1  Theory: Illuminati got Trump in office to crea...  "
      ]
     },
     "execution_count": 9,
     "metadata": {},
     "output_type": "execute_result"
    }
   ],
   "source": [
    "# ConspiracyTheory\n",
    "file_path = \"../datasets/\" + \"ConspiracyTheory\" + \"_raw\" + \".csv\"\n",
    "df_ct = pd.read_csv(file_path)\n",
    "\n",
    "# Keeping only a few columns which will be helpful during analysis\n",
    "df_ct_clean = df_ct[to_keep_clmns]\n",
    "\n",
    "\n",
    "df_ct_clean.head(2)"
   ]
  },
  {
   "cell_type": "code",
   "execution_count": 10,
   "metadata": {},
   "outputs": [
    {
     "data": {
      "text/plain": [
       "(894, 10)"
      ]
     },
     "execution_count": 10,
     "metadata": {},
     "output_type": "execute_result"
    }
   ],
   "source": [
    "df_ct_clean.shape"
   ]
  },
  {
   "cell_type": "markdown",
   "metadata": {},
   "source": [
    "Cleaning the data and getting the texts ready for process:"
   ]
  },
  {
   "cell_type": "code",
   "execution_count": 11,
   "metadata": {},
   "outputs": [
    {
     "data": {
      "text/plain": [
       "author            0\n",
       "created_utc       0\n",
       "domain            0\n",
       "id                0\n",
       "num_comments      0\n",
       "over_18           0\n",
       "post_hint       573\n",
       "score             0\n",
       "selftext        542\n",
       "title             0\n",
       "dtype: int64"
      ]
     },
     "execution_count": 11,
     "metadata": {},
     "output_type": "execute_result"
    }
   ],
   "source": [
    "df_ct_clean.isnull().sum()"
   ]
  },
  {
   "cell_type": "markdown",
   "metadata": {},
   "source": [
    "Imputation time: Imputing the useful columns, dropping the useless columns, which also have many missing values."
   ]
  },
  {
   "cell_type": "code",
   "execution_count": 12,
   "metadata": {},
   "outputs": [],
   "source": [
    "#For title and selftext columns, I filled them with \" \" as they will be striped later, so I can merge them later.\n",
    "\n",
    "df_ct_clean[\"title\"].fillna(\" \", inplace=True)\n",
    "df_ct_clean[\"selftext\"].fillna(\" \", inplace=True)\n",
    "\n",
    "#Merging the title and selftext for further processing\n",
    "\n",
    "df_ct_clean['text_merged'] = df_ct_clean['title'] + \" \" + df_ct_clean['selftext']\n",
    "df_ct_clean.drop(columns = [\"title\", \"selftext\"], inplace=True)\n",
    "\n",
    "#For post_hint, I imputed them with \"Empty\"\n",
    "df_ct_clean['post_hint'].fillna(\"Empty\", inplace=True)"
   ]
  },
  {
   "cell_type": "code",
   "execution_count": 13,
   "metadata": {},
   "outputs": [
    {
     "data": {
      "text/plain": [
       "'Jimmy Fallon might be in the closet gay, or Bisexual Recently me and some of my friends have been noticing How Jimmy Fallon looks at men on tv. Him checking out Terry crews when he is shirtless. The way he looks at men and woman similarly. He is ok with cross dressing, and often acts like a preteen girl. He shows many signs on the gaydar. Although it is not for sure. This is a theory that me and my fellow lgbt + friends are in love with because we love Jimmy Fallon and that he is not afraid to be himself. Even if he is straight.'"
      ]
     },
     "execution_count": 13,
     "metadata": {},
     "output_type": "execute_result"
    }
   ],
   "source": [
    "df_ct_clean.loc[0, \"text_merged\"]"
   ]
  },
  {
   "cell_type": "markdown",
   "metadata": {},
   "source": [
    "Checking the datatypes and also whether all columns have no NaN values:"
   ]
  },
  {
   "cell_type": "code",
   "execution_count": 14,
   "metadata": {},
   "outputs": [
    {
     "data": {
      "text/html": [
       "<div>\n",
       "<style scoped>\n",
       "    .dataframe tbody tr th:only-of-type {\n",
       "        vertical-align: middle;\n",
       "    }\n",
       "\n",
       "    .dataframe tbody tr th {\n",
       "        vertical-align: top;\n",
       "    }\n",
       "\n",
       "    .dataframe thead th {\n",
       "        text-align: right;\n",
       "    }\n",
       "</style>\n",
       "<table border=\"1\" class=\"dataframe\">\n",
       "  <thead>\n",
       "    <tr style=\"text-align: right;\">\n",
       "      <th></th>\n",
       "      <th>author</th>\n",
       "      <th>created_utc</th>\n",
       "      <th>domain</th>\n",
       "      <th>id</th>\n",
       "      <th>num_comments</th>\n",
       "      <th>over_18</th>\n",
       "      <th>post_hint</th>\n",
       "      <th>score</th>\n",
       "      <th>text_merged</th>\n",
       "    </tr>\n",
       "  </thead>\n",
       "  <tbody>\n",
       "    <tr>\n",
       "      <th>0</th>\n",
       "      <td>LonelyHampster</td>\n",
       "      <td>1581513470</td>\n",
       "      <td>self.ConspiracyTheory</td>\n",
       "      <td>f2r2s5</td>\n",
       "      <td>22</td>\n",
       "      <td>False</td>\n",
       "      <td>Empty</td>\n",
       "      <td>1</td>\n",
       "      <td>Jimmy Fallon might be in the closet gay, or Bi...</td>\n",
       "    </tr>\n",
       "    <tr>\n",
       "      <th>1</th>\n",
       "      <td>Switchkillengaged</td>\n",
       "      <td>1581312224</td>\n",
       "      <td>self.ConspiracyTheory</td>\n",
       "      <td>f1lp26</td>\n",
       "      <td>6</td>\n",
       "      <td>False</td>\n",
       "      <td>Empty</td>\n",
       "      <td>1</td>\n",
       "      <td>Theory: Illuminati got Trump in office to crea...</td>\n",
       "    </tr>\n",
       "    <tr>\n",
       "      <th>2</th>\n",
       "      <td>makiababi</td>\n",
       "      <td>1581266472</td>\n",
       "      <td>youtu.be</td>\n",
       "      <td>f1b44j</td>\n",
       "      <td>2</td>\n",
       "      <td>False</td>\n",
       "      <td>rich:video</td>\n",
       "      <td>1</td>\n",
       "      <td>NBA Players who are Part of the Secret Illumin...</td>\n",
       "    </tr>\n",
       "    <tr>\n",
       "      <th>3</th>\n",
       "      <td>Raven9nine9</td>\n",
       "      <td>1581179235</td>\n",
       "      <td>self.ConspiracyTheory</td>\n",
       "      <td>f0tsly</td>\n",
       "      <td>15</td>\n",
       "      <td>False</td>\n",
       "      <td>Empty</td>\n",
       "      <td>1</td>\n",
       "      <td>Evidence that Suggests Wuhan Market was Not th...</td>\n",
       "    </tr>\n",
       "    <tr>\n",
       "      <th>4</th>\n",
       "      <td>finnagains</td>\n",
       "      <td>1581095126</td>\n",
       "      <td>i.redd.it</td>\n",
       "      <td>f0dddo</td>\n",
       "      <td>0</td>\n",
       "      <td>False</td>\n",
       "      <td>image</td>\n",
       "      <td>1</td>\n",
       "      <td>US Navy Vet - Worked in Afghanistan, Iraq, Sud...</td>\n",
       "    </tr>\n",
       "  </tbody>\n",
       "</table>\n",
       "</div>"
      ],
      "text/plain": [
       "              author  created_utc                 domain      id  \\\n",
       "0     LonelyHampster   1581513470  self.ConspiracyTheory  f2r2s5   \n",
       "1  Switchkillengaged   1581312224  self.ConspiracyTheory  f1lp26   \n",
       "2          makiababi   1581266472               youtu.be  f1b44j   \n",
       "3        Raven9nine9   1581179235  self.ConspiracyTheory  f0tsly   \n",
       "4         finnagains   1581095126              i.redd.it  f0dddo   \n",
       "\n",
       "   num_comments  over_18   post_hint  score  \\\n",
       "0            22    False       Empty      1   \n",
       "1             6    False       Empty      1   \n",
       "2             2    False  rich:video      1   \n",
       "3            15    False       Empty      1   \n",
       "4             0    False       image      1   \n",
       "\n",
       "                                         text_merged  \n",
       "0  Jimmy Fallon might be in the closet gay, or Bi...  \n",
       "1  Theory: Illuminati got Trump in office to crea...  \n",
       "2  NBA Players who are Part of the Secret Illumin...  \n",
       "3  Evidence that Suggests Wuhan Market was Not th...  \n",
       "4  US Navy Vet - Worked in Afghanistan, Iraq, Sud...  "
      ]
     },
     "execution_count": 14,
     "metadata": {},
     "output_type": "execute_result"
    }
   ],
   "source": [
    "df_ct_clean.head()"
   ]
  },
  {
   "cell_type": "code",
   "execution_count": 15,
   "metadata": {},
   "outputs": [
    {
     "data": {
      "text/plain": [
       "'NBA Players who are Part of the Secret Illuminati  '"
      ]
     },
     "execution_count": 15,
     "metadata": {},
     "output_type": "execute_result"
    }
   ],
   "source": [
    "df_ct_clean.loc[2,\"text_merged\"]"
   ]
  },
  {
   "cell_type": "markdown",
   "metadata": {},
   "source": [
    "#### **Everything looks good here too !**"
   ]
  },
  {
   "cell_type": "markdown",
   "metadata": {},
   "source": [
    "One last step is to combine dataframes into a single one:"
   ]
  },
  {
   "cell_type": "code",
   "execution_count": 16,
   "metadata": {},
   "outputs": [
    {
     "data": {
      "text/html": [
       "<div>\n",
       "<style scoped>\n",
       "    .dataframe tbody tr th:only-of-type {\n",
       "        vertical-align: middle;\n",
       "    }\n",
       "\n",
       "    .dataframe tbody tr th {\n",
       "        vertical-align: top;\n",
       "    }\n",
       "\n",
       "    .dataframe thead th {\n",
       "        text-align: right;\n",
       "    }\n",
       "</style>\n",
       "<table border=\"1\" class=\"dataframe\">\n",
       "  <thead>\n",
       "    <tr style=\"text-align: right;\">\n",
       "      <th></th>\n",
       "      <th>author</th>\n",
       "      <th>created_utc</th>\n",
       "      <th>domain</th>\n",
       "      <th>id</th>\n",
       "      <th>num_comments</th>\n",
       "      <th>over_18</th>\n",
       "      <th>post_hint</th>\n",
       "      <th>score</th>\n",
       "      <th>text_merged</th>\n",
       "      <th>subreddit</th>\n",
       "    </tr>\n",
       "  </thead>\n",
       "  <tbody>\n",
       "    <tr>\n",
       "      <th>0</th>\n",
       "      <td>Kafka15</td>\n",
       "      <td>1593554514</td>\n",
       "      <td>i.redd.it</td>\n",
       "      <td>hixbtf</td>\n",
       "      <td>2</td>\n",
       "      <td>False</td>\n",
       "      <td>image</td>\n",
       "      <td>1</td>\n",
       "      <td>Cum</td>\n",
       "      <td>GlobalWarming</td>\n",
       "    </tr>\n",
       "    <tr>\n",
       "      <th>1</th>\n",
       "      <td>karan_negiiiii</td>\n",
       "      <td>1593497051</td>\n",
       "      <td>boringworld.org</td>\n",
       "      <td>hihj6s</td>\n",
       "      <td>0</td>\n",
       "      <td>False</td>\n",
       "      <td>Empty</td>\n",
       "      <td>1</td>\n",
       "      <td>Climate Change in india.</td>\n",
       "      <td>GlobalWarming</td>\n",
       "    </tr>\n",
       "    <tr>\n",
       "      <th>2</th>\n",
       "      <td>Hildavardr</td>\n",
       "      <td>1593479932</td>\n",
       "      <td>self.GlobalWarming</td>\n",
       "      <td>hidb5h</td>\n",
       "      <td>0</td>\n",
       "      <td>False</td>\n",
       "      <td>Empty</td>\n",
       "      <td>1</td>\n",
       "      <td>Global warming and the responsibility of big I...</td>\n",
       "      <td>GlobalWarming</td>\n",
       "    </tr>\n",
       "    <tr>\n",
       "      <th>3</th>\n",
       "      <td>pEppapiGistfuhrer</td>\n",
       "      <td>1593455137</td>\n",
       "      <td>i.redd.it</td>\n",
       "      <td>hi5h41</td>\n",
       "      <td>1</td>\n",
       "      <td>False</td>\n",
       "      <td>image</td>\n",
       "      <td>1</td>\n",
       "      <td>Ayy lets stop global warming</td>\n",
       "      <td>GlobalWarming</td>\n",
       "    </tr>\n",
       "    <tr>\n",
       "      <th>4</th>\n",
       "      <td>BrexitBlaze</td>\n",
       "      <td>1593455005</td>\n",
       "      <td>theguardian.com</td>\n",
       "      <td>hi5feq</td>\n",
       "      <td>2</td>\n",
       "      <td>False</td>\n",
       "      <td>link</td>\n",
       "      <td>2</td>\n",
       "      <td>UK ministers send mixed messages over climate ...</td>\n",
       "      <td>GlobalWarming</td>\n",
       "    </tr>\n",
       "  </tbody>\n",
       "</table>\n",
       "</div>"
      ],
      "text/plain": [
       "              author  created_utc              domain      id  num_comments  \\\n",
       "0            Kafka15   1593554514           i.redd.it  hixbtf             2   \n",
       "1     karan_negiiiii   1593497051     boringworld.org  hihj6s             0   \n",
       "2         Hildavardr   1593479932  self.GlobalWarming  hidb5h             0   \n",
       "3  pEppapiGistfuhrer   1593455137           i.redd.it  hi5h41             1   \n",
       "4        BrexitBlaze   1593455005     theguardian.com  hi5feq             2   \n",
       "\n",
       "   over_18 post_hint  score  \\\n",
       "0    False     image      1   \n",
       "1    False     Empty      1   \n",
       "2    False     Empty      1   \n",
       "3    False     image      1   \n",
       "4    False      link      2   \n",
       "\n",
       "                                         text_merged      subreddit  \n",
       "0                                              Cum    GlobalWarming  \n",
       "1                         Climate Change in india.    GlobalWarming  \n",
       "2  Global warming and the responsibility of big I...  GlobalWarming  \n",
       "3                     Ayy lets stop global warming    GlobalWarming  \n",
       "4  UK ministers send mixed messages over climate ...  GlobalWarming  "
      ]
     },
     "execution_count": 16,
     "metadata": {},
     "output_type": "execute_result"
    }
   ],
   "source": [
    "#Adding one column to determine the subreddit pulled from\n",
    "df_gw_clean[\"subreddit\"] = \"GlobalWarming\"\n",
    "df_ct_clean[\"subreddit\"] = \"ConspiracyTheory\"\n",
    "\n",
    "df_reddit = pd.concat([df_gw_clean, df_ct_clean], axis = 0, ignore_index=True)\n",
    "\n",
    "\n",
    "df_reddit.head(5)"
   ]
  },
  {
   "cell_type": "code",
   "execution_count": 17,
   "metadata": {},
   "outputs": [
    {
     "data": {
      "text/plain": [
       "(4828, 10)"
      ]
     },
     "execution_count": 17,
     "metadata": {},
     "output_type": "execute_result"
    }
   ],
   "source": [
    "df_reddit.shape"
   ]
  },
  {
   "cell_type": "code",
   "execution_count": 18,
   "metadata": {},
   "outputs": [
    {
     "data": {
      "text/plain": [
       "\"Is the earth flat? Yesterday was the first time that I had actually heard the argument for The Flat Earth Society and I can't say that I'm totally against it. I know it seems a little far fetched at times, but then again I can see where they are coming from. Does anyone here know/have anything they would want to add that might be useful for trying to decided where I stand in all of this? \""
      ]
     },
     "execution_count": 18,
     "metadata": {},
     "output_type": "execute_result"
    }
   ],
   "source": [
    "df_reddit[\"text_merged\"][4548]"
   ]
  },
  {
   "cell_type": "markdown",
   "metadata": {},
   "source": [
    "### Now, doing cleaning on the merged reddit dataframe"
   ]
  },
  {
   "cell_type": "code",
   "execution_count": 19,
   "metadata": {},
   "outputs": [],
   "source": [
    "#Lots of cleaning on text\n",
    "\n",
    "def text_cleaning(item):\n",
    "\n",
    "    #Removing \"\\n\" characters\n",
    "    item = re.sub(\"\\n\", \" \", item)\n",
    "    #Removing the [removed] characters\n",
    "    item = item.replace(\"[removed]\", \" \")\n",
    "    # Use regular expressions to do a find-and-replace\n",
    "    item = re.sub(\"[^a-zA-Z]\", \" \", item)\n",
    "    #Making all characters lower case\n",
    "    item = item.lower()\n",
    "    #Replacing multiple spaces\n",
    "    item = \" \".join(item.split())\n",
    "    #Removing stopwords\n",
    "    stops = stopwords.words(\"english\")\n",
    "    words = [w for w in item.split() if w not in stops]#stops\n",
    "    # Instantiate object of class PorterStemmer and stemming.\n",
    "    p_stemmer = PorterStemmer()\n",
    "    words = [p_stemmer.stem(i) for i in words]\n",
    "    # Adding space to stitch the words together\n",
    "    words = \" \".join(list(words)) \n",
    "    \n",
    "    return words\n",
    "\n",
    "df_reddit[\"text_merged\"] = df_reddit[\"text_merged\"].apply(text_cleaning)\n",
    "\n",
    "\n",
    "\n",
    "#Stemming\n",
    "\n",
    "\n",
    "df_reddit.reset_index(drop=True, inplace=True)"
   ]
  },
  {
   "cell_type": "code",
   "execution_count": 20,
   "metadata": {},
   "outputs": [
    {
     "data": {
      "text/html": [
       "<div>\n",
       "<style scoped>\n",
       "    .dataframe tbody tr th:only-of-type {\n",
       "        vertical-align: middle;\n",
       "    }\n",
       "\n",
       "    .dataframe tbody tr th {\n",
       "        vertical-align: top;\n",
       "    }\n",
       "\n",
       "    .dataframe thead th {\n",
       "        text-align: right;\n",
       "    }\n",
       "</style>\n",
       "<table border=\"1\" class=\"dataframe\">\n",
       "  <thead>\n",
       "    <tr style=\"text-align: right;\">\n",
       "      <th></th>\n",
       "      <th>author</th>\n",
       "      <th>created_utc</th>\n",
       "      <th>domain</th>\n",
       "      <th>id</th>\n",
       "      <th>num_comments</th>\n",
       "      <th>over_18</th>\n",
       "      <th>post_hint</th>\n",
       "      <th>score</th>\n",
       "      <th>text_merged</th>\n",
       "      <th>subreddit</th>\n",
       "    </tr>\n",
       "  </thead>\n",
       "  <tbody>\n",
       "    <tr>\n",
       "      <th>0</th>\n",
       "      <td>Kafka15</td>\n",
       "      <td>1593554514</td>\n",
       "      <td>i.redd.it</td>\n",
       "      <td>hixbtf</td>\n",
       "      <td>2</td>\n",
       "      <td>False</td>\n",
       "      <td>image</td>\n",
       "      <td>1</td>\n",
       "      <td>cum</td>\n",
       "      <td>GlobalWarming</td>\n",
       "    </tr>\n",
       "    <tr>\n",
       "      <th>1</th>\n",
       "      <td>karan_negiiiii</td>\n",
       "      <td>1593497051</td>\n",
       "      <td>boringworld.org</td>\n",
       "      <td>hihj6s</td>\n",
       "      <td>0</td>\n",
       "      <td>False</td>\n",
       "      <td>Empty</td>\n",
       "      <td>1</td>\n",
       "      <td>climat chang india</td>\n",
       "      <td>GlobalWarming</td>\n",
       "    </tr>\n",
       "    <tr>\n",
       "      <th>2</th>\n",
       "      <td>Hildavardr</td>\n",
       "      <td>1593479932</td>\n",
       "      <td>self.GlobalWarming</td>\n",
       "      <td>hidb5h</td>\n",
       "      <td>0</td>\n",
       "      <td>False</td>\n",
       "      <td>Empty</td>\n",
       "      <td>1</td>\n",
       "      <td>global warm respons big compani</td>\n",
       "      <td>GlobalWarming</td>\n",
       "    </tr>\n",
       "    <tr>\n",
       "      <th>3</th>\n",
       "      <td>pEppapiGistfuhrer</td>\n",
       "      <td>1593455137</td>\n",
       "      <td>i.redd.it</td>\n",
       "      <td>hi5h41</td>\n",
       "      <td>1</td>\n",
       "      <td>False</td>\n",
       "      <td>image</td>\n",
       "      <td>1</td>\n",
       "      <td>ayi let stop global warm</td>\n",
       "      <td>GlobalWarming</td>\n",
       "    </tr>\n",
       "    <tr>\n",
       "      <th>4</th>\n",
       "      <td>BrexitBlaze</td>\n",
       "      <td>1593455005</td>\n",
       "      <td>theguardian.com</td>\n",
       "      <td>hi5feq</td>\n",
       "      <td>2</td>\n",
       "      <td>False</td>\n",
       "      <td>link</td>\n",
       "      <td>2</td>\n",
       "      <td>uk minist send mix messag climat commit say fu...</td>\n",
       "      <td>GlobalWarming</td>\n",
       "    </tr>\n",
       "  </tbody>\n",
       "</table>\n",
       "</div>"
      ],
      "text/plain": [
       "              author  created_utc              domain      id  num_comments  \\\n",
       "0            Kafka15   1593554514           i.redd.it  hixbtf             2   \n",
       "1     karan_negiiiii   1593497051     boringworld.org  hihj6s             0   \n",
       "2         Hildavardr   1593479932  self.GlobalWarming  hidb5h             0   \n",
       "3  pEppapiGistfuhrer   1593455137           i.redd.it  hi5h41             1   \n",
       "4        BrexitBlaze   1593455005     theguardian.com  hi5feq             2   \n",
       "\n",
       "   over_18 post_hint  score  \\\n",
       "0    False     image      1   \n",
       "1    False     Empty      1   \n",
       "2    False     Empty      1   \n",
       "3    False     image      1   \n",
       "4    False      link      2   \n",
       "\n",
       "                                         text_merged      subreddit  \n",
       "0                                                cum  GlobalWarming  \n",
       "1                                 climat chang india  GlobalWarming  \n",
       "2                    global warm respons big compani  GlobalWarming  \n",
       "3                           ayi let stop global warm  GlobalWarming  \n",
       "4  uk minist send mix messag climat commit say fu...  GlobalWarming  "
      ]
     },
     "execution_count": 20,
     "metadata": {},
     "output_type": "execute_result"
    }
   ],
   "source": [
    "df_reddit.head(5)"
   ]
  },
  {
   "cell_type": "code",
   "execution_count": 21,
   "metadata": {},
   "outputs": [
    {
     "data": {
      "text/plain": [
       "'anomal warm temperatur arctic siberia may'"
      ]
     },
     "execution_count": 21,
     "metadata": {},
     "output_type": "execute_result"
    }
   ],
   "source": [
    "df_reddit[\"text_merged\"][50]"
   ]
  },
  {
   "cell_type": "code",
   "execution_count": 22,
   "metadata": {},
   "outputs": [
    {
     "data": {
      "text/plain": [
       "(4828, 10)"
      ]
     },
     "execution_count": 22,
     "metadata": {},
     "output_type": "execute_result"
    }
   ],
   "source": [
    "df_reddit.shape"
   ]
  },
  {
   "cell_type": "markdown",
   "metadata": {},
   "source": [
    "Pickling the dataframe as they are large!"
   ]
  },
  {
   "cell_type": "code",
   "execution_count": 23,
   "metadata": {},
   "outputs": [],
   "source": [
    "pickle.dump(df_reddit, open('../datasets/df_reddit.pkl', 'wb'))"
   ]
  },
  {
   "cell_type": "code",
   "execution_count": 24,
   "metadata": {},
   "outputs": [
    {
     "name": "stdout",
     "output_type": "stream",
     "text": [
      "Hello world!\n"
     ]
    }
   ],
   "source": [
    "print(\"Hello world!\")"
   ]
  }
 ],
 "metadata": {
  "kernelspec": {
   "display_name": "Python [conda env:dsi] *",
   "language": "python",
   "name": "conda-env-dsi-py"
  },
  "language_info": {
   "codemirror_mode": {
    "name": "ipython",
    "version": 3
   },
   "file_extension": ".py",
   "mimetype": "text/x-python",
   "name": "python",
   "nbconvert_exporter": "python",
   "pygments_lexer": "ipython3",
   "version": "3.7.7"
  }
 },
 "nbformat": 4,
 "nbformat_minor": 4
}
