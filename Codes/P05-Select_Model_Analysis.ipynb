{
 "cells": [
  {
   "cell_type": "markdown",
   "metadata": {},
   "source": [
    "## The global warming issue and Narratives around it<br>\n",
    "### Part 5: Doing further analysis on a selected model for insight inferences, ***the real deal !***\n",
    "\n",
    "In this notebook, I set the stage for perfomring my modeling"
   ]
  },
  {
   "cell_type": "markdown",
   "metadata": {},
   "source": [
    "Importing the require libraries:"
   ]
  },
  {
   "cell_type": "code",
   "execution_count": 1,
   "metadata": {},
   "outputs": [
    {
     "name": "stderr",
     "output_type": "stream",
     "text": [
      "/Users/smighani/opt/anaconda3/envs/dsi/lib/python3.7/site-packages/sklearn/utils/deprecation.py:143: FutureWarning: The sklearn.metrics.scorer module is  deprecated in version 0.22 and will be removed in version 0.24. The corresponding classes / functions should instead be imported from sklearn.metrics. Anything that cannot be imported from sklearn.metrics is now part of the private API.\n",
      "  warnings.warn(message, FutureWarning)\n",
      "/Users/smighani/opt/anaconda3/envs/dsi/lib/python3.7/site-packages/sklearn/utils/deprecation.py:143: FutureWarning: The sklearn.feature_selection.base module is  deprecated in version 0.22 and will be removed in version 0.24. The corresponding classes / functions should instead be imported from sklearn.feature_selection. Anything that cannot be imported from sklearn.feature_selection is now part of the private API.\n",
      "  warnings.warn(message, FutureWarning)\n"
     ]
    }
   ],
   "source": [
    "#imports\n",
    "import numpy as np\n",
    "import pandas as pd\n",
    "import matplotlib.pylab as plt\n",
    "import seaborn as sns\n",
    "import eli5\n",
    "\n",
    "import regex as re\n",
    "import nltk\n",
    "#nltk.download('vader_lexicon')\n",
    "from nltk.sentiment.vader import SentimentIntensityAnalyzer\n",
    "from sklearn.feature_extraction.text import CountVectorizer, TfidfVectorizer\n",
    "from sklearn.model_selection import cross_val_score, train_test_split, GridSearchCV\n",
    "from sklearn.linear_model import LogisticRegression\n",
    "from sklearn.pipeline import Pipeline, FeatureUnion\n",
    "\n",
    "\n",
    "from sklearn.naive_bayes import MultinomialNB\n",
    "from sklearn.preprocessing import StandardScaler, FunctionTransformer\n",
    "\n",
    "\n",
    "from sklearn.metrics import confusion_matrix, plot_confusion_matrix, accuracy_score, classification_report\n",
    "\n",
    "\n",
    "from sklearn.ensemble import GradientBoostingClassifier, AdaBoostClassifier, VotingClassifier\n",
    "\n",
    "from nltk.corpus import stopwords\n",
    "\n",
    "import pickle\n",
    "\n",
    "from sklearn.ensemble import RandomForestClassifier, ExtraTreesClassifier\n",
    "\n",
    "import warnings\n",
    "warnings.filterwarnings('ignore')\n",
    "warnings.simplefilter(action='ignore', category=FutureWarning)"
   ]
  },
  {
   "cell_type": "markdown",
   "metadata": {},
   "source": [
    "## Part 4.1: Importing the saved dataframe"
   ]
  },
  {
   "cell_type": "code",
   "execution_count": 2,
   "metadata": {},
   "outputs": [
    {
     "data": {
      "text/html": [
       "<div>\n",
       "<style scoped>\n",
       "    .dataframe tbody tr th:only-of-type {\n",
       "        vertical-align: middle;\n",
       "    }\n",
       "\n",
       "    .dataframe tbody tr th {\n",
       "        vertical-align: top;\n",
       "    }\n",
       "\n",
       "    .dataframe thead th {\n",
       "        text-align: right;\n",
       "    }\n",
       "</style>\n",
       "<table border=\"1\" class=\"dataframe\">\n",
       "  <thead>\n",
       "    <tr style=\"text-align: right;\">\n",
       "      <th></th>\n",
       "      <th>author</th>\n",
       "      <th>created_utc</th>\n",
       "      <th>id</th>\n",
       "      <th>num_comments</th>\n",
       "      <th>over_18</th>\n",
       "      <th>post_hint</th>\n",
       "      <th>score</th>\n",
       "      <th>subreddit_subscribers</th>\n",
       "      <th>text_merged</th>\n",
       "      <th>subreddit</th>\n",
       "      <th>text_char_count</th>\n",
       "      <th>text_word_count</th>\n",
       "      <th>sentiment_score</th>\n",
       "      <th>date</th>\n",
       "      <th>target</th>\n",
       "    </tr>\n",
       "  </thead>\n",
       "  <tbody>\n",
       "    <tr>\n",
       "      <th>0</th>\n",
       "      <td>Kafka15</td>\n",
       "      <td>1593554514</td>\n",
       "      <td>hixbtf</td>\n",
       "      <td>2</td>\n",
       "      <td>0</td>\n",
       "      <td>image</td>\n",
       "      <td>1</td>\n",
       "      <td>6157.0</td>\n",
       "      <td>cum</td>\n",
       "      <td>GlobalWarming</td>\n",
       "      <td>3</td>\n",
       "      <td>1</td>\n",
       "      <td>0.0000</td>\n",
       "      <td>2020-06-30 22:01:54</td>\n",
       "      <td>1</td>\n",
       "    </tr>\n",
       "    <tr>\n",
       "      <th>1</th>\n",
       "      <td>karan_negiiiii</td>\n",
       "      <td>1593497051</td>\n",
       "      <td>hihj6s</td>\n",
       "      <td>0</td>\n",
       "      <td>0</td>\n",
       "      <td>Empty</td>\n",
       "      <td>1</td>\n",
       "      <td>6156.0</td>\n",
       "      <td>chang india</td>\n",
       "      <td>GlobalWarming</td>\n",
       "      <td>18</td>\n",
       "      <td>3</td>\n",
       "      <td>0.0000</td>\n",
       "      <td>2020-06-30 06:04:11</td>\n",
       "      <td>1</td>\n",
       "    </tr>\n",
       "    <tr>\n",
       "      <th>2</th>\n",
       "      <td>Hildavardr</td>\n",
       "      <td>1593479932</td>\n",
       "      <td>hidb5h</td>\n",
       "      <td>0</td>\n",
       "      <td>0</td>\n",
       "      <td>Empty</td>\n",
       "      <td>1</td>\n",
       "      <td>6154.0</td>\n",
       "      <td>respons big compani</td>\n",
       "      <td>GlobalWarming</td>\n",
       "      <td>37</td>\n",
       "      <td>6</td>\n",
       "      <td>0.2263</td>\n",
       "      <td>2020-06-30 01:18:52</td>\n",
       "      <td>1</td>\n",
       "    </tr>\n",
       "    <tr>\n",
       "      <th>3</th>\n",
       "      <td>pEppapiGistfuhrer</td>\n",
       "      <td>1593455137</td>\n",
       "      <td>hi5h41</td>\n",
       "      <td>1</td>\n",
       "      <td>0</td>\n",
       "      <td>image</td>\n",
       "      <td>1</td>\n",
       "      <td>6152.0</td>\n",
       "      <td>ayi let stop</td>\n",
       "      <td>GlobalWarming</td>\n",
       "      <td>24</td>\n",
       "      <td>5</td>\n",
       "      <td>-0.0772</td>\n",
       "      <td>2020-06-29 18:25:37</td>\n",
       "      <td>1</td>\n",
       "    </tr>\n",
       "    <tr>\n",
       "      <th>4</th>\n",
       "      <td>BrexitBlaze</td>\n",
       "      <td>1593455005</td>\n",
       "      <td>hi5feq</td>\n",
       "      <td>2</td>\n",
       "      <td>0</td>\n",
       "      <td>link</td>\n",
       "      <td>2</td>\n",
       "      <td>6152.0</td>\n",
       "      <td>uk minist send mix messag commit say fund mana...</td>\n",
       "      <td>GlobalWarming</td>\n",
       "      <td>66</td>\n",
       "      <td>13</td>\n",
       "      <td>0.2960</td>\n",
       "      <td>2020-06-29 18:23:25</td>\n",
       "      <td>1</td>\n",
       "    </tr>\n",
       "  </tbody>\n",
       "</table>\n",
       "</div>"
      ],
      "text/plain": [
       "              author  created_utc      id  num_comments  over_18 post_hint  \\\n",
       "0            Kafka15   1593554514  hixbtf             2        0     image   \n",
       "1     karan_negiiiii   1593497051  hihj6s             0        0     Empty   \n",
       "2         Hildavardr   1593479932  hidb5h             0        0     Empty   \n",
       "3  pEppapiGistfuhrer   1593455137  hi5h41             1        0     image   \n",
       "4        BrexitBlaze   1593455005  hi5feq             2        0      link   \n",
       "\n",
       "   score  subreddit_subscribers  \\\n",
       "0      1                 6157.0   \n",
       "1      1                 6156.0   \n",
       "2      1                 6154.0   \n",
       "3      1                 6152.0   \n",
       "4      2                 6152.0   \n",
       "\n",
       "                                         text_merged      subreddit  \\\n",
       "0                                                cum  GlobalWarming   \n",
       "1                                        chang india  GlobalWarming   \n",
       "2                                respons big compani  GlobalWarming   \n",
       "3                                       ayi let stop  GlobalWarming   \n",
       "4  uk minist send mix messag commit say fund mana...  GlobalWarming   \n",
       "\n",
       "   text_char_count  text_word_count  sentiment_score                date  \\\n",
       "0                3                1           0.0000 2020-06-30 22:01:54   \n",
       "1               18                3           0.0000 2020-06-30 06:04:11   \n",
       "2               37                6           0.2263 2020-06-30 01:18:52   \n",
       "3               24                5          -0.0772 2020-06-29 18:25:37   \n",
       "4               66               13           0.2960 2020-06-29 18:23:25   \n",
       "\n",
       "   target  \n",
       "0       1  \n",
       "1       1  \n",
       "2       1  \n",
       "3       1  \n",
       "4       1  "
      ]
     },
     "execution_count": 2,
     "metadata": {},
     "output_type": "execute_result"
    }
   ],
   "source": [
    "df_reddit = pickle.load(open('../datasets/df_reddit_for_model.pkl', 'rb'))\n",
    "\n",
    "\n",
    "list_stop_words = [\"dec\", \"global\", \"http\", \"www\", \"com\", \"conspiraci\", \"warm\", \"climat\", \"remov\", \"theori\", \"theactualshadow\", \"co\"]\n",
    "\n",
    "\n",
    "\n",
    "def remove_stops(item):\n",
    "\n",
    "    stops = list_stop_words\n",
    "    words = [w for w in item.split() if w not in stops]#stops\n",
    "    \n",
    "    words = \" \".join(list(words)) # Adding space\n",
    "    \n",
    "    return words\n",
    "\n",
    "df_reddit['text_merged'] = df_reddit['text_merged'].apply(remove_stops)\n",
    "\n",
    "\n",
    "\n",
    "\n",
    "\n",
    "\n",
    "\n",
    "\n",
    "\n",
    "\n",
    "\n",
    "df_reddit.head()"
   ]
  },
  {
   "cell_type": "markdown",
   "metadata": {},
   "source": [
    "## Bootstrapped the under-represented class to balance the classes:"
   ]
  },
  {
   "cell_type": "code",
   "execution_count": 3,
   "metadata": {},
   "outputs": [],
   "source": [
    "n_bts_sample = df_reddit[(df_reddit[\"subreddit\"]==\"GlobalWarming\")].shape[0] - df_reddit[(df_reddit[\"subreddit\"]==\"ConspiracyTheory\")].shape[0]\n",
    "\n",
    "df_btsp = df_reddit[(df_reddit[\"subreddit\"]==\"ConspiracyTheory\")].sample(n = n_bts_sample, replace=True, random_state=42)\n",
    "\n",
    "df_reddit_btsp = pd.concat([df_reddit, df_btsp])\n",
    "\n",
    "df_reddit_btsp.reset_index(drop=True, inplace=True)"
   ]
  },
  {
   "cell_type": "markdown",
   "metadata": {},
   "source": [
    "## Part 4.2- **Logistic Regression**, only on vectorized text (using CountVectorizer)"
   ]
  },
  {
   "cell_type": "code",
   "execution_count": 4,
   "metadata": {},
   "outputs": [],
   "source": [
    "X = df_reddit_btsp['text_merged']\n",
    "y = df_reddit_btsp['target']"
   ]
  },
  {
   "cell_type": "code",
   "execution_count": 5,
   "metadata": {},
   "outputs": [
    {
     "data": {
      "text/plain": [
       "(7868,)"
      ]
     },
     "execution_count": 5,
     "metadata": {},
     "output_type": "execute_result"
    }
   ],
   "source": [
    "X.shape"
   ]
  },
  {
   "cell_type": "markdown",
   "metadata": {},
   "source": [
    "### Defining variables"
   ]
  },
  {
   "cell_type": "code",
   "execution_count": 6,
   "metadata": {},
   "outputs": [],
   "source": [
    "X_train, X_test, y_train, y_test = train_test_split(X,\n",
    "                                                    y,\n",
    "                                                    test_size = 0.25,\n",
    "                                                    stratify=y,\n",
    "                                                    random_state = 42)"
   ]
  },
  {
   "cell_type": "markdown",
   "metadata": {},
   "source": [
    "Checking for stratified target variables:"
   ]
  },
  {
   "cell_type": "code",
   "execution_count": 7,
   "metadata": {},
   "outputs": [
    {
     "data": {
      "text/plain": [
       "1    0.5\n",
       "0    0.5\n",
       "Name: target, dtype: float64"
      ]
     },
     "execution_count": 7,
     "metadata": {},
     "output_type": "execute_result"
    }
   ],
   "source": [
    "y.value_counts(normalize=True)"
   ]
  },
  {
   "cell_type": "code",
   "execution_count": 8,
   "metadata": {},
   "outputs": [
    {
     "data": {
      "text/plain": [
       "1    0.500085\n",
       "0    0.499915\n",
       "Name: target, dtype: float64"
      ]
     },
     "execution_count": 8,
     "metadata": {},
     "output_type": "execute_result"
    }
   ],
   "source": [
    "y_train.value_counts(normalize=True)"
   ]
  },
  {
   "cell_type": "code",
   "execution_count": 9,
   "metadata": {},
   "outputs": [
    {
     "data": {
      "text/plain": [
       "0    0.500254\n",
       "1    0.499746\n",
       "Name: target, dtype: float64"
      ]
     },
     "execution_count": 9,
     "metadata": {},
     "output_type": "execute_result"
    }
   ],
   "source": [
    "y_test.value_counts(normalize=True)"
   ]
  },
  {
   "cell_type": "markdown",
   "metadata": {},
   "source": [
    "## Baseline accuracy:"
   ]
  },
  {
   "cell_type": "code",
   "execution_count": 10,
   "metadata": {},
   "outputs": [
    {
     "data": {
      "text/plain": [
       "0    0.500254\n",
       "1    0.499746\n",
       "Name: target, dtype: float64"
      ]
     },
     "execution_count": 10,
     "metadata": {},
     "output_type": "execute_result"
    }
   ],
   "source": [
    "y_test.value_counts(normalize=True)"
   ]
  },
  {
   "cell_type": "markdown",
   "metadata": {},
   "source": [
    "Hence, 50%, this is the worst we are allowed to do!"
   ]
  },
  {
   "cell_type": "markdown",
   "metadata": {},
   "source": [
    "### Vectorizing text data and looking into it:"
   ]
  },
  {
   "cell_type": "code",
   "execution_count": 11,
   "metadata": {},
   "outputs": [],
   "source": [
    "#Adding a stop word list which I derived from an initial plot:\n",
    "\n",
    "\n",
    "\n",
    "vectorizer = CountVectorizer(analyzer = \"word\",\n",
    "                             #ngram_range=(1,2),\n",
    "                             tokenizer = None,\n",
    "                             preprocessor = None,\n",
    "                             stop_words = list_stop_words,\n",
    "                             max_features = 3000) \n",
    "\n",
    "\n",
    "X_train_features = vectorizer.fit_transform(X_train)\n",
    "\n",
    "pickle.dump(vectorizer, open('../datasets/vectorizer.pkl', 'wb'))\n",
    "\n",
    "X_test_features = vectorizer.transform(X_test)"
   ]
  },
  {
   "cell_type": "code",
   "execution_count": 12,
   "metadata": {},
   "outputs": [
    {
     "data": {
      "text/html": [
       "<div>\n",
       "<style scoped>\n",
       "    .dataframe tbody tr th:only-of-type {\n",
       "        vertical-align: middle;\n",
       "    }\n",
       "\n",
       "    .dataframe tbody tr th {\n",
       "        vertical-align: top;\n",
       "    }\n",
       "\n",
       "    .dataframe thead th {\n",
       "        text-align: right;\n",
       "    }\n",
       "</style>\n",
       "<table border=\"1\" class=\"dataframe\">\n",
       "  <thead>\n",
       "    <tr style=\"text-align: right;\">\n",
       "      <th></th>\n",
       "      <th>abandon</th>\n",
       "      <th>abduct</th>\n",
       "      <th>abducte</th>\n",
       "      <th>abil</th>\n",
       "      <th>abl</th>\n",
       "      <th>absolut</th>\n",
       "      <th>absorb</th>\n",
       "      <th>abus</th>\n",
       "      <th>ac</th>\n",
       "      <th>accept</th>\n",
       "      <th>...</th>\n",
       "      <th>youtu</th>\n",
       "      <th>youtub</th>\n",
       "      <th>yqwynca</th>\n",
       "      <th>zag</th>\n",
       "      <th>zealand</th>\n",
       "      <th>zero</th>\n",
       "      <th>zeu</th>\n",
       "      <th>zig</th>\n",
       "      <th>zombi</th>\n",
       "      <th>zone</th>\n",
       "    </tr>\n",
       "  </thead>\n",
       "  <tbody>\n",
       "    <tr>\n",
       "      <th>0</th>\n",
       "      <td>0</td>\n",
       "      <td>0</td>\n",
       "      <td>0</td>\n",
       "      <td>0</td>\n",
       "      <td>0</td>\n",
       "      <td>0</td>\n",
       "      <td>0</td>\n",
       "      <td>0</td>\n",
       "      <td>0</td>\n",
       "      <td>0</td>\n",
       "      <td>...</td>\n",
       "      <td>0</td>\n",
       "      <td>0</td>\n",
       "      <td>0</td>\n",
       "      <td>0</td>\n",
       "      <td>0</td>\n",
       "      <td>0</td>\n",
       "      <td>0</td>\n",
       "      <td>0</td>\n",
       "      <td>0</td>\n",
       "      <td>0</td>\n",
       "    </tr>\n",
       "    <tr>\n",
       "      <th>1</th>\n",
       "      <td>0</td>\n",
       "      <td>0</td>\n",
       "      <td>0</td>\n",
       "      <td>0</td>\n",
       "      <td>0</td>\n",
       "      <td>0</td>\n",
       "      <td>0</td>\n",
       "      <td>0</td>\n",
       "      <td>0</td>\n",
       "      <td>0</td>\n",
       "      <td>...</td>\n",
       "      <td>0</td>\n",
       "      <td>0</td>\n",
       "      <td>0</td>\n",
       "      <td>0</td>\n",
       "      <td>0</td>\n",
       "      <td>0</td>\n",
       "      <td>0</td>\n",
       "      <td>0</td>\n",
       "      <td>0</td>\n",
       "      <td>0</td>\n",
       "    </tr>\n",
       "  </tbody>\n",
       "</table>\n",
       "<p>2 rows × 3000 columns</p>\n",
       "</div>"
      ],
      "text/plain": [
       "   abandon  abduct  abducte  abil  abl  absolut  absorb  abus  ac  accept  \\\n",
       "0        0       0        0     0    0        0       0     0   0       0   \n",
       "1        0       0        0     0    0        0       0     0   0       0   \n",
       "\n",
       "   ...  youtu  youtub  yqwynca  zag  zealand  zero  zeu  zig  zombi  zone  \n",
       "0  ...      0       0        0    0        0     0    0    0      0     0  \n",
       "1  ...      0       0        0    0        0     0    0    0      0     0  \n",
       "\n",
       "[2 rows x 3000 columns]"
      ]
     },
     "execution_count": 12,
     "metadata": {},
     "output_type": "execute_result"
    }
   ],
   "source": [
    "X_train_features_df = pd.DataFrame(X_train_features.toarray(),\n",
    "                          columns=vectorizer.get_feature_names())\n",
    "X_train_features_df.head(2)"
   ]
  },
  {
   "cell_type": "code",
   "execution_count": 13,
   "metadata": {},
   "outputs": [
    {
     "data": {
      "text/html": [
       "<div>\n",
       "<style scoped>\n",
       "    .dataframe tbody tr th:only-of-type {\n",
       "        vertical-align: middle;\n",
       "    }\n",
       "\n",
       "    .dataframe tbody tr th {\n",
       "        vertical-align: top;\n",
       "    }\n",
       "\n",
       "    .dataframe thead th {\n",
       "        text-align: right;\n",
       "    }\n",
       "</style>\n",
       "<table border=\"1\" class=\"dataframe\">\n",
       "  <thead>\n",
       "    <tr style=\"text-align: right;\">\n",
       "      <th></th>\n",
       "      <th>0</th>\n",
       "      <th>1</th>\n",
       "    </tr>\n",
       "  </thead>\n",
       "  <tbody>\n",
       "    <tr>\n",
       "      <th>0</th>\n",
       "      <td>world</td>\n",
       "      <td>1117</td>\n",
       "    </tr>\n",
       "    <tr>\n",
       "      <th>1</th>\n",
       "      <td>like</td>\n",
       "      <td>953</td>\n",
       "    </tr>\n",
       "    <tr>\n",
       "      <th>2</th>\n",
       "      <td>peopl</td>\n",
       "      <td>891</td>\n",
       "    </tr>\n",
       "    <tr>\n",
       "      <th>3</th>\n",
       "      <td>chang</td>\n",
       "      <td>888</td>\n",
       "    </tr>\n",
       "    <tr>\n",
       "      <th>4</th>\n",
       "      <td>would</td>\n",
       "      <td>804</td>\n",
       "    </tr>\n",
       "    <tr>\n",
       "      <th>...</th>\n",
       "      <td>...</td>\n",
       "      <td>...</td>\n",
       "    </tr>\n",
       "    <tr>\n",
       "      <th>2995</th>\n",
       "      <td>withdraw</td>\n",
       "      <td>8</td>\n",
       "    </tr>\n",
       "    <tr>\n",
       "      <th>2996</th>\n",
       "      <td>worthi</td>\n",
       "      <td>8</td>\n",
       "    </tr>\n",
       "    <tr>\n",
       "      <th>2997</th>\n",
       "      <td>yqwynca</td>\n",
       "      <td>8</td>\n",
       "    </tr>\n",
       "    <tr>\n",
       "      <th>2998</th>\n",
       "      <td>zag</td>\n",
       "      <td>8</td>\n",
       "    </tr>\n",
       "    <tr>\n",
       "      <th>2999</th>\n",
       "      <td>zig</td>\n",
       "      <td>8</td>\n",
       "    </tr>\n",
       "  </tbody>\n",
       "</table>\n",
       "<p>3000 rows × 2 columns</p>\n",
       "</div>"
      ],
      "text/plain": [
       "             0     1\n",
       "0        world  1117\n",
       "1         like   953\n",
       "2        peopl   891\n",
       "3        chang   888\n",
       "4        would   804\n",
       "...        ...   ...\n",
       "2995  withdraw     8\n",
       "2996    worthi     8\n",
       "2997   yqwynca     8\n",
       "2998       zag     8\n",
       "2999       zig     8\n",
       "\n",
       "[3000 rows x 2 columns]"
      ]
     },
     "execution_count": 13,
     "metadata": {},
     "output_type": "execute_result"
    }
   ],
   "source": [
    "# get count of top-occurring words\n",
    "\n",
    "# empty dictionary\n",
    "top_words = {}\n",
    "\n",
    "# loop through columns\n",
    "for i in X_train_features_df.columns:\n",
    "    # save sum of each column in dictionary\n",
    "    top_words[i] =  X_train_features_df[i].sum()\n",
    "    \n",
    "# top_words to dataframe sorted by highest occurance\n",
    "most_freq = pd.DataFrame(sorted(top_words.items(), key = lambda x: x[1], reverse = True))\n",
    "most_freq"
   ]
  },
  {
   "cell_type": "markdown",
   "metadata": {},
   "source": [
    "---"
   ]
  },
  {
   "cell_type": "markdown",
   "metadata": {},
   "source": [
    "# Word-use-aggression (WUA) feature:\n",
    "Write the formulae in the markdown later if useful feature:\n",
    "WUA = ⎇|w_i - w_top_words|"
   ]
  },
  {
   "cell_type": "code",
   "execution_count": 14,
   "metadata": {},
   "outputs": [
    {
     "data": {
      "text/html": [
       "<div>\n",
       "<style scoped>\n",
       "    .dataframe tbody tr th:only-of-type {\n",
       "        vertical-align: middle;\n",
       "    }\n",
       "\n",
       "    .dataframe tbody tr th {\n",
       "        vertical-align: top;\n",
       "    }\n",
       "\n",
       "    .dataframe thead th {\n",
       "        text-align: right;\n",
       "    }\n",
       "</style>\n",
       "<table border=\"1\" class=\"dataframe\">\n",
       "  <thead>\n",
       "    <tr style=\"text-align: right;\">\n",
       "      <th></th>\n",
       "      <th>targets</th>\n",
       "      <th>ab</th>\n",
       "      <th>abandon</th>\n",
       "      <th>abil</th>\n",
       "      <th>abl</th>\n",
       "      <th>absolut</th>\n",
       "      <th>absorb</th>\n",
       "      <th>absorpt</th>\n",
       "      <th>abstract</th>\n",
       "      <th>absurd</th>\n",
       "      <th>...</th>\n",
       "      <th>york</th>\n",
       "      <th>yorker</th>\n",
       "      <th>young</th>\n",
       "      <th>younger</th>\n",
       "      <th>youth</th>\n",
       "      <th>youtu</th>\n",
       "      <th>youtub</th>\n",
       "      <th>zealand</th>\n",
       "      <th>zero</th>\n",
       "      <th>zone</th>\n",
       "    </tr>\n",
       "  </thead>\n",
       "  <tbody>\n",
       "    <tr>\n",
       "      <th>0</th>\n",
       "      <td>1</td>\n",
       "      <td>0</td>\n",
       "      <td>0</td>\n",
       "      <td>0</td>\n",
       "      <td>0</td>\n",
       "      <td>0</td>\n",
       "      <td>0</td>\n",
       "      <td>0</td>\n",
       "      <td>0</td>\n",
       "      <td>0</td>\n",
       "      <td>...</td>\n",
       "      <td>0</td>\n",
       "      <td>0</td>\n",
       "      <td>0</td>\n",
       "      <td>0</td>\n",
       "      <td>0</td>\n",
       "      <td>0</td>\n",
       "      <td>0</td>\n",
       "      <td>0</td>\n",
       "      <td>0</td>\n",
       "      <td>0</td>\n",
       "    </tr>\n",
       "    <tr>\n",
       "      <th>1</th>\n",
       "      <td>1</td>\n",
       "      <td>0</td>\n",
       "      <td>0</td>\n",
       "      <td>0</td>\n",
       "      <td>0</td>\n",
       "      <td>0</td>\n",
       "      <td>0</td>\n",
       "      <td>0</td>\n",
       "      <td>0</td>\n",
       "      <td>0</td>\n",
       "      <td>...</td>\n",
       "      <td>0</td>\n",
       "      <td>0</td>\n",
       "      <td>0</td>\n",
       "      <td>0</td>\n",
       "      <td>0</td>\n",
       "      <td>0</td>\n",
       "      <td>0</td>\n",
       "      <td>0</td>\n",
       "      <td>0</td>\n",
       "      <td>0</td>\n",
       "    </tr>\n",
       "  </tbody>\n",
       "</table>\n",
       "<p>2 rows × 3099 columns</p>\n",
       "</div>"
      ],
      "text/plain": [
       "   targets  ab  abandon  abil  abl  absolut  absorb  absorpt  abstract  \\\n",
       "0        1   0        0     0    0        0       0        0         0   \n",
       "1        1   0        0     0    0        0       0        0         0   \n",
       "\n",
       "   absurd  ...  york  yorker  young  younger  youth  youtu  youtub  zealand  \\\n",
       "0       0  ...     0       0      0        0      0      0       0        0   \n",
       "1       0  ...     0       0      0        0      0      0       0        0   \n",
       "\n",
       "   zero  zone  \n",
       "0     0     0  \n",
       "1     0     0  \n",
       "\n",
       "[2 rows x 3099 columns]"
      ]
     },
     "execution_count": 14,
     "metadata": {},
     "output_type": "execute_result"
    }
   ],
   "source": [
    "cvec = CountVectorizer(stop_words=list_stop_words, min_df=4, max_df=1.0)\n",
    "term_mat = cvec.fit_transform(df_reddit['text_merged'])\n",
    "len(cvec.get_feature_names())\n",
    "\n",
    "term_df = pd.DataFrame(term_mat.toarray(), columns=cvec.get_feature_names())\n",
    "\n",
    "term_df.insert(0, 'targets', df_reddit[\"target\"])\n",
    "term_df.head(2)"
   ]
  },
  {
   "cell_type": "code",
   "execution_count": 15,
   "metadata": {},
   "outputs": [],
   "source": [
    "#term_df.groupby('targets').mean().T.sort_values(0, ascending=False).head(20)"
   ]
  },
  {
   "cell_type": "code",
   "execution_count": 16,
   "metadata": {},
   "outputs": [],
   "source": [
    "top_words_ct = list(term_df.groupby('targets').\n",
    "     mean().T.sort_values(0, ascending=False).head(100).index)\n",
    "\n",
    "top_words_ch = list(term_df.groupby('targets').\n",
    "     mean().T.sort_values(1, ascending=False).head(100).index)\n",
    "\n",
    "top_words_overlap = [word for word in top_words_ch if word in top_words_ct]\n",
    "\n",
    "\n",
    "\n",
    "pickle.dump(top_words_overlap, open('../datasets/top_words_overlap.pkl', 'wb'))"
   ]
  },
  {
   "cell_type": "code",
   "execution_count": 17,
   "metadata": {},
   "outputs": [
    {
     "data": {
      "text/plain": [
       "['year', 'earth', 'world', 'would', 'peopl']"
      ]
     },
     "execution_count": 17,
     "metadata": {},
     "output_type": "execute_result"
    }
   ],
   "source": [
    "top_words_overlap[:5]"
   ]
  },
  {
   "cell_type": "code",
   "execution_count": 18,
   "metadata": {},
   "outputs": [],
   "source": [
    "def get_uwa(item):\n",
    "\n",
    "    words = [w for w in item.split()]\n",
    "    #print(words)\n",
    "    \n",
    "    index_list = []\n",
    "    \n",
    "    for i in range(len(words)):\n",
    "        \n",
    "        if (words[i] in list(top_words)):\n",
    "            index_list.append(i)\n",
    "    \n",
    "    dist = 0\n",
    "    \n",
    "    dist = np.sum(np.array(index_list[1:]) - np.array(index_list[0:-1]))\n",
    "    \n",
    "    return dist"
   ]
  },
  {
   "cell_type": "code",
   "execution_count": 19,
   "metadata": {},
   "outputs": [],
   "source": [
    "df_reddit['wua'] = df_reddit['text_merged'].apply(get_uwa)\n"
   ]
  },
  {
   "cell_type": "code",
   "execution_count": 20,
   "metadata": {},
   "outputs": [
    {
     "data": {
      "text/html": [
       "<div>\n",
       "<style scoped>\n",
       "    .dataframe tbody tr th:only-of-type {\n",
       "        vertical-align: middle;\n",
       "    }\n",
       "\n",
       "    .dataframe tbody tr th {\n",
       "        vertical-align: top;\n",
       "    }\n",
       "\n",
       "    .dataframe thead th {\n",
       "        text-align: right;\n",
       "    }\n",
       "</style>\n",
       "<table border=\"1\" class=\"dataframe\">\n",
       "  <thead>\n",
       "    <tr style=\"text-align: right;\">\n",
       "      <th></th>\n",
       "      <th>author</th>\n",
       "      <th>created_utc</th>\n",
       "      <th>id</th>\n",
       "      <th>num_comments</th>\n",
       "      <th>over_18</th>\n",
       "      <th>post_hint</th>\n",
       "      <th>score</th>\n",
       "      <th>subreddit_subscribers</th>\n",
       "      <th>text_merged</th>\n",
       "      <th>subreddit</th>\n",
       "      <th>text_char_count</th>\n",
       "      <th>text_word_count</th>\n",
       "      <th>sentiment_score</th>\n",
       "      <th>date</th>\n",
       "      <th>target</th>\n",
       "      <th>wua</th>\n",
       "    </tr>\n",
       "  </thead>\n",
       "  <tbody>\n",
       "    <tr>\n",
       "      <th>0</th>\n",
       "      <td>Kafka15</td>\n",
       "      <td>1593554514</td>\n",
       "      <td>hixbtf</td>\n",
       "      <td>2</td>\n",
       "      <td>0</td>\n",
       "      <td>image</td>\n",
       "      <td>1</td>\n",
       "      <td>6157.0</td>\n",
       "      <td>cum</td>\n",
       "      <td>GlobalWarming</td>\n",
       "      <td>3</td>\n",
       "      <td>1</td>\n",
       "      <td>0.0000</td>\n",
       "      <td>2020-06-30 22:01:54</td>\n",
       "      <td>1</td>\n",
       "      <td>0.0</td>\n",
       "    </tr>\n",
       "    <tr>\n",
       "      <th>1</th>\n",
       "      <td>karan_negiiiii</td>\n",
       "      <td>1593497051</td>\n",
       "      <td>hihj6s</td>\n",
       "      <td>0</td>\n",
       "      <td>0</td>\n",
       "      <td>Empty</td>\n",
       "      <td>1</td>\n",
       "      <td>6156.0</td>\n",
       "      <td>chang india</td>\n",
       "      <td>GlobalWarming</td>\n",
       "      <td>18</td>\n",
       "      <td>3</td>\n",
       "      <td>0.0000</td>\n",
       "      <td>2020-06-30 06:04:11</td>\n",
       "      <td>1</td>\n",
       "      <td>1.0</td>\n",
       "    </tr>\n",
       "    <tr>\n",
       "      <th>2</th>\n",
       "      <td>Hildavardr</td>\n",
       "      <td>1593479932</td>\n",
       "      <td>hidb5h</td>\n",
       "      <td>0</td>\n",
       "      <td>0</td>\n",
       "      <td>Empty</td>\n",
       "      <td>1</td>\n",
       "      <td>6154.0</td>\n",
       "      <td>respons big compani</td>\n",
       "      <td>GlobalWarming</td>\n",
       "      <td>37</td>\n",
       "      <td>6</td>\n",
       "      <td>0.2263</td>\n",
       "      <td>2020-06-30 01:18:52</td>\n",
       "      <td>1</td>\n",
       "      <td>2.0</td>\n",
       "    </tr>\n",
       "    <tr>\n",
       "      <th>3</th>\n",
       "      <td>pEppapiGistfuhrer</td>\n",
       "      <td>1593455137</td>\n",
       "      <td>hi5h41</td>\n",
       "      <td>1</td>\n",
       "      <td>0</td>\n",
       "      <td>image</td>\n",
       "      <td>1</td>\n",
       "      <td>6152.0</td>\n",
       "      <td>ayi let stop</td>\n",
       "      <td>GlobalWarming</td>\n",
       "      <td>24</td>\n",
       "      <td>5</td>\n",
       "      <td>-0.0772</td>\n",
       "      <td>2020-06-29 18:25:37</td>\n",
       "      <td>1</td>\n",
       "      <td>1.0</td>\n",
       "    </tr>\n",
       "    <tr>\n",
       "      <th>4</th>\n",
       "      <td>BrexitBlaze</td>\n",
       "      <td>1593455005</td>\n",
       "      <td>hi5feq</td>\n",
       "      <td>2</td>\n",
       "      <td>0</td>\n",
       "      <td>link</td>\n",
       "      <td>2</td>\n",
       "      <td>6152.0</td>\n",
       "      <td>uk minist send mix messag commit say fund mana...</td>\n",
       "      <td>GlobalWarming</td>\n",
       "      <td>66</td>\n",
       "      <td>13</td>\n",
       "      <td>0.2960</td>\n",
       "      <td>2020-06-29 18:23:25</td>\n",
       "      <td>1</td>\n",
       "      <td>8.0</td>\n",
       "    </tr>\n",
       "  </tbody>\n",
       "</table>\n",
       "</div>"
      ],
      "text/plain": [
       "              author  created_utc      id  num_comments  over_18 post_hint  \\\n",
       "0            Kafka15   1593554514  hixbtf             2        0     image   \n",
       "1     karan_negiiiii   1593497051  hihj6s             0        0     Empty   \n",
       "2         Hildavardr   1593479932  hidb5h             0        0     Empty   \n",
       "3  pEppapiGistfuhrer   1593455137  hi5h41             1        0     image   \n",
       "4        BrexitBlaze   1593455005  hi5feq             2        0      link   \n",
       "\n",
       "   score  subreddit_subscribers  \\\n",
       "0      1                 6157.0   \n",
       "1      1                 6156.0   \n",
       "2      1                 6154.0   \n",
       "3      1                 6152.0   \n",
       "4      2                 6152.0   \n",
       "\n",
       "                                         text_merged      subreddit  \\\n",
       "0                                                cum  GlobalWarming   \n",
       "1                                        chang india  GlobalWarming   \n",
       "2                                respons big compani  GlobalWarming   \n",
       "3                                       ayi let stop  GlobalWarming   \n",
       "4  uk minist send mix messag commit say fund mana...  GlobalWarming   \n",
       "\n",
       "   text_char_count  text_word_count  sentiment_score                date  \\\n",
       "0                3                1           0.0000 2020-06-30 22:01:54   \n",
       "1               18                3           0.0000 2020-06-30 06:04:11   \n",
       "2               37                6           0.2263 2020-06-30 01:18:52   \n",
       "3               24                5          -0.0772 2020-06-29 18:25:37   \n",
       "4               66               13           0.2960 2020-06-29 18:23:25   \n",
       "\n",
       "   target  wua  \n",
       "0       1  0.0  \n",
       "1       1  1.0  \n",
       "2       1  2.0  \n",
       "3       1  1.0  \n",
       "4       1  8.0  "
      ]
     },
     "execution_count": 20,
     "metadata": {},
     "output_type": "execute_result"
    }
   ],
   "source": [
    "df_reddit.head()"
   ]
  },
  {
   "cell_type": "markdown",
   "metadata": {},
   "source": [
    "---"
   ]
  },
  {
   "cell_type": "markdown",
   "metadata": {},
   "source": [
    "### Now, instantiating the logistic regression model and fitting:"
   ]
  },
  {
   "cell_type": "code",
   "execution_count": 21,
   "metadata": {},
   "outputs": [],
   "source": [
    "#Instantiating the model:\n",
    "lr = LogisticRegression(solver='newton-cg')"
   ]
  },
  {
   "cell_type": "code",
   "execution_count": 22,
   "metadata": {},
   "outputs": [],
   "source": [
    "lr.fit(X_train_features, y_train);\n",
    "\n",
    "pickle.dump(lr, open('../datasets/lr.pkl', 'wb'))\n",
    "\n"
   ]
  },
  {
   "cell_type": "code",
   "execution_count": 23,
   "metadata": {},
   "outputs": [
    {
     "data": {
      "text/plain": [
       "0.9774614472123369"
      ]
     },
     "execution_count": 23,
     "metadata": {},
     "output_type": "execute_result"
    }
   ],
   "source": [
    "lr.score(X_train_features, y_train)"
   ]
  },
  {
   "cell_type": "code",
   "execution_count": 24,
   "metadata": {},
   "outputs": [
    {
     "data": {
      "text/plain": [
       "0.9323843416370107"
      ]
     },
     "execution_count": 24,
     "metadata": {},
     "output_type": "execute_result"
    }
   ],
   "source": [
    "lr.score(X_test_features, y_test)\n",
    "\n"
   ]
  },
  {
   "cell_type": "markdown",
   "metadata": {},
   "source": [
    "Accuracy on test is not too good, need more work, overfit!"
   ]
  },
  {
   "cell_type": "markdown",
   "metadata": {},
   "source": [
    "Creating a dataframe to look at the coefficient of the basae model:"
   ]
  },
  {
   "cell_type": "code",
   "execution_count": 25,
   "metadata": {},
   "outputs": [
    {
     "data": {
      "text/html": [
       "<div>\n",
       "<style scoped>\n",
       "    .dataframe tbody tr th:only-of-type {\n",
       "        vertical-align: middle;\n",
       "    }\n",
       "\n",
       "    .dataframe tbody tr th {\n",
       "        vertical-align: top;\n",
       "    }\n",
       "\n",
       "    .dataframe thead th {\n",
       "        text-align: right;\n",
       "    }\n",
       "</style>\n",
       "<table border=\"1\" class=\"dataframe\">\n",
       "  <thead>\n",
       "    <tr style=\"text-align: right;\">\n",
       "      <th></th>\n",
       "      <th>feature_names</th>\n",
       "      <th>LR_coefficients</th>\n",
       "    </tr>\n",
       "  </thead>\n",
       "  <tbody>\n",
       "    <tr>\n",
       "      <th>2980</th>\n",
       "      <td>devic</td>\n",
       "      <td>-1.601822</td>\n",
       "    </tr>\n",
       "    <tr>\n",
       "      <th>2981</th>\n",
       "      <td>king</td>\n",
       "      <td>-1.637642</td>\n",
       "    </tr>\n",
       "    <tr>\n",
       "      <th>2982</th>\n",
       "      <td>cia</td>\n",
       "      <td>-1.638617</td>\n",
       "    </tr>\n",
       "    <tr>\n",
       "      <th>2983</th>\n",
       "      <td>conflict</td>\n",
       "      <td>-1.641999</td>\n",
       "    </tr>\n",
       "    <tr>\n",
       "      <th>2984</th>\n",
       "      <td>mark</td>\n",
       "      <td>-1.694568</td>\n",
       "    </tr>\n",
       "    <tr>\n",
       "      <th>2985</th>\n",
       "      <td>capitalist</td>\n",
       "      <td>-1.718462</td>\n",
       "    </tr>\n",
       "    <tr>\n",
       "      <th>2986</th>\n",
       "      <td>oct</td>\n",
       "      <td>-1.725363</td>\n",
       "    </tr>\n",
       "    <tr>\n",
       "      <th>2987</th>\n",
       "      <td>mirror</td>\n",
       "      <td>-1.762918</td>\n",
       "    </tr>\n",
       "    <tr>\n",
       "      <th>2988</th>\n",
       "      <td>club</td>\n",
       "      <td>-1.782644</td>\n",
       "    </tr>\n",
       "    <tr>\n",
       "      <th>2989</th>\n",
       "      <td>april</td>\n",
       "      <td>-1.794237</td>\n",
       "    </tr>\n",
       "    <tr>\n",
       "      <th>2990</th>\n",
       "      <td>epstein</td>\n",
       "      <td>-1.839416</td>\n",
       "    </tr>\n",
       "    <tr>\n",
       "      <th>2991</th>\n",
       "      <td>control</td>\n",
       "      <td>-1.848390</td>\n",
       "    </tr>\n",
       "    <tr>\n",
       "      <th>2992</th>\n",
       "      <td>dead</td>\n",
       "      <td>-1.859572</td>\n",
       "    </tr>\n",
       "    <tr>\n",
       "      <th>2993</th>\n",
       "      <td>iran</td>\n",
       "      <td>-2.003617</td>\n",
       "    </tr>\n",
       "    <tr>\n",
       "      <th>2994</th>\n",
       "      <td>ufo</td>\n",
       "      <td>-2.045038</td>\n",
       "    </tr>\n",
       "    <tr>\n",
       "      <th>2995</th>\n",
       "      <td>moon</td>\n",
       "      <td>-2.058871</td>\n",
       "    </tr>\n",
       "    <tr>\n",
       "      <th>2996</th>\n",
       "      <td>illuminati</td>\n",
       "      <td>-2.123301</td>\n",
       "    </tr>\n",
       "    <tr>\n",
       "      <th>2997</th>\n",
       "      <td>assassin</td>\n",
       "      <td>-2.135199</td>\n",
       "    </tr>\n",
       "    <tr>\n",
       "      <th>2998</th>\n",
       "      <td>mandela</td>\n",
       "      <td>-2.440148</td>\n",
       "    </tr>\n",
       "    <tr>\n",
       "      <th>2999</th>\n",
       "      <td>alien</td>\n",
       "      <td>-2.650792</td>\n",
       "    </tr>\n",
       "  </tbody>\n",
       "</table>\n",
       "</div>"
      ],
      "text/plain": [
       "     feature_names  LR_coefficients\n",
       "2980         devic        -1.601822\n",
       "2981          king        -1.637642\n",
       "2982           cia        -1.638617\n",
       "2983      conflict        -1.641999\n",
       "2984          mark        -1.694568\n",
       "2985    capitalist        -1.718462\n",
       "2986           oct        -1.725363\n",
       "2987        mirror        -1.762918\n",
       "2988          club        -1.782644\n",
       "2989         april        -1.794237\n",
       "2990       epstein        -1.839416\n",
       "2991       control        -1.848390\n",
       "2992          dead        -1.859572\n",
       "2993          iran        -2.003617\n",
       "2994           ufo        -2.045038\n",
       "2995          moon        -2.058871\n",
       "2996    illuminati        -2.123301\n",
       "2997      assassin        -2.135199\n",
       "2998       mandela        -2.440148\n",
       "2999         alien        -2.650792"
      ]
     },
     "execution_count": 25,
     "metadata": {},
     "output_type": "execute_result"
    }
   ],
   "source": [
    "df_coeffs = pd.DataFrame()\n",
    "df_coef= pd.DataFrame(lr.coef_).T\n",
    "df_feat = pd.DataFrame(vectorizer.get_feature_names())\n",
    "\n",
    "df_lr_coefs=pd.concat([df_feat, df_coef], axis=1)\n",
    "df_lr_coefs.columns = [\"feature_names\", \"LR_coefficients\"]\n",
    "df_lr_coefs_sorted = df_lr_coefs.sort_values(by =[\"LR_coefficients\"], ascending=False, ignore_index=True)\n",
    "df_lr_coefs_sorted.tail(20)"
   ]
  },
  {
   "cell_type": "code",
   "execution_count": 26,
   "metadata": {},
   "outputs": [
    {
     "data": {
      "text/html": [
       "<div>\n",
       "<style scoped>\n",
       "    .dataframe tbody tr th:only-of-type {\n",
       "        vertical-align: middle;\n",
       "    }\n",
       "\n",
       "    .dataframe tbody tr th {\n",
       "        vertical-align: top;\n",
       "    }\n",
       "\n",
       "    .dataframe thead th {\n",
       "        text-align: right;\n",
       "    }\n",
       "</style>\n",
       "<table border=\"1\" class=\"dataframe\">\n",
       "  <thead>\n",
       "    <tr style=\"text-align: right;\">\n",
       "      <th></th>\n",
       "      <th>feature_names</th>\n",
       "      <th>LR_coefficients</th>\n",
       "    </tr>\n",
       "  </thead>\n",
       "  <tbody>\n",
       "    <tr>\n",
       "      <th>0</th>\n",
       "      <td>chang</td>\n",
       "      <td>2.701103</td>\n",
       "    </tr>\n",
       "    <tr>\n",
       "      <th>1</th>\n",
       "      <td>carbon</td>\n",
       "      <td>2.277294</td>\n",
       "    </tr>\n",
       "    <tr>\n",
       "      <th>2</th>\n",
       "      <td>scientist</td>\n",
       "      <td>2.004883</td>\n",
       "    </tr>\n",
       "    <tr>\n",
       "      <th>3</th>\n",
       "      <td>emiss</td>\n",
       "      <td>1.964167</td>\n",
       "    </tr>\n",
       "    <tr>\n",
       "      <th>4</th>\n",
       "      <td>environment</td>\n",
       "      <td>1.907267</td>\n",
       "    </tr>\n",
       "    <tr>\n",
       "      <th>5</th>\n",
       "      <td>temperatur</td>\n",
       "      <td>1.851639</td>\n",
       "    </tr>\n",
       "    <tr>\n",
       "      <th>6</th>\n",
       "      <td>futur</td>\n",
       "      <td>1.590890</td>\n",
       "    </tr>\n",
       "    <tr>\n",
       "      <th>7</th>\n",
       "      <td>ice</td>\n",
       "      <td>1.564098</td>\n",
       "    </tr>\n",
       "    <tr>\n",
       "      <th>8</th>\n",
       "      <td>hottest</td>\n",
       "      <td>1.491541</td>\n",
       "    </tr>\n",
       "    <tr>\n",
       "      <th>9</th>\n",
       "      <td>environ</td>\n",
       "      <td>1.482627</td>\n",
       "    </tr>\n",
       "    <tr>\n",
       "      <th>10</th>\n",
       "      <td>stop</td>\n",
       "      <td>1.438720</td>\n",
       "    </tr>\n",
       "    <tr>\n",
       "      <th>11</th>\n",
       "      <td>green</td>\n",
       "      <td>1.421683</td>\n",
       "    </tr>\n",
       "    <tr>\n",
       "      <th>12</th>\n",
       "      <td>help</td>\n",
       "      <td>1.415750</td>\n",
       "    </tr>\n",
       "    <tr>\n",
       "      <th>13</th>\n",
       "      <td>energi</td>\n",
       "      <td>1.411387</td>\n",
       "    </tr>\n",
       "    <tr>\n",
       "      <th>14</th>\n",
       "      <td>planet</td>\n",
       "      <td>1.402722</td>\n",
       "    </tr>\n",
       "    <tr>\n",
       "      <th>15</th>\n",
       "      <td>glacier</td>\n",
       "      <td>1.389538</td>\n",
       "    </tr>\n",
       "    <tr>\n",
       "      <th>16</th>\n",
       "      <td>survey</td>\n",
       "      <td>1.371627</td>\n",
       "    </tr>\n",
       "    <tr>\n",
       "      <th>17</th>\n",
       "      <td>flood</td>\n",
       "      <td>1.358925</td>\n",
       "    </tr>\n",
       "    <tr>\n",
       "      <th>18</th>\n",
       "      <td>warn</td>\n",
       "      <td>1.329911</td>\n",
       "    </tr>\n",
       "    <tr>\n",
       "      <th>19</th>\n",
       "      <td>earth</td>\n",
       "      <td>1.329386</td>\n",
       "    </tr>\n",
       "  </tbody>\n",
       "</table>\n",
       "</div>"
      ],
      "text/plain": [
       "   feature_names  LR_coefficients\n",
       "0          chang         2.701103\n",
       "1         carbon         2.277294\n",
       "2      scientist         2.004883\n",
       "3          emiss         1.964167\n",
       "4    environment         1.907267\n",
       "5     temperatur         1.851639\n",
       "6          futur         1.590890\n",
       "7            ice         1.564098\n",
       "8        hottest         1.491541\n",
       "9        environ         1.482627\n",
       "10          stop         1.438720\n",
       "11         green         1.421683\n",
       "12          help         1.415750\n",
       "13        energi         1.411387\n",
       "14        planet         1.402722\n",
       "15       glacier         1.389538\n",
       "16        survey         1.371627\n",
       "17         flood         1.358925\n",
       "18          warn         1.329911\n",
       "19         earth         1.329386"
      ]
     },
     "execution_count": 26,
     "metadata": {},
     "output_type": "execute_result"
    }
   ],
   "source": [
    "df_lr_coefs_sorted.head(20)"
   ]
  },
  {
   "cell_type": "markdown",
   "metadata": {},
   "source": [
    "## Part 4.3- **Logistic Regression** <br><br>(only on vectorized text, vectorized by TF-IDF vectorizer)"
   ]
  },
  {
   "cell_type": "code",
   "execution_count": 27,
   "metadata": {},
   "outputs": [],
   "source": [
    "# Instantiate the transformer.\n",
    "tvec = TfidfVectorizer()"
   ]
  },
  {
   "cell_type": "code",
   "execution_count": 28,
   "metadata": {},
   "outputs": [
    {
     "data": {
      "text/html": [
       "<div>\n",
       "<style scoped>\n",
       "    .dataframe tbody tr th:only-of-type {\n",
       "        vertical-align: middle;\n",
       "    }\n",
       "\n",
       "    .dataframe tbody tr th {\n",
       "        vertical-align: top;\n",
       "    }\n",
       "\n",
       "    .dataframe thead th {\n",
       "        text-align: right;\n",
       "    }\n",
       "</style>\n",
       "<table border=\"1\" class=\"dataframe\">\n",
       "  <thead>\n",
       "    <tr style=\"text-align: right;\">\n",
       "      <th></th>\n",
       "      <th>aa</th>\n",
       "      <th>aacgtmjui</th>\n",
       "      <th>aaliyah</th>\n",
       "      <th>aaron</th>\n",
       "      <th>aass</th>\n",
       "      <th>ab</th>\n",
       "      <th>aback</th>\n",
       "      <th>abandon</th>\n",
       "      <th>abbott</th>\n",
       "      <th>abbrevi</th>\n",
       "      <th>...</th>\n",
       "      <th>zoo</th>\n",
       "      <th>zoom</th>\n",
       "      <th>zorgt</th>\n",
       "      <th>zq</th>\n",
       "      <th>zr</th>\n",
       "      <th>ztiu</th>\n",
       "      <th>zuck</th>\n",
       "      <th>zuckerberg</th>\n",
       "      <th>zvhm</th>\n",
       "      <th>zwhvc</th>\n",
       "    </tr>\n",
       "  </thead>\n",
       "  <tbody>\n",
       "    <tr>\n",
       "      <th>0</th>\n",
       "      <td>0.0</td>\n",
       "      <td>0.0</td>\n",
       "      <td>0.0</td>\n",
       "      <td>0.0</td>\n",
       "      <td>0.0</td>\n",
       "      <td>0.0</td>\n",
       "      <td>0.0</td>\n",
       "      <td>0.0</td>\n",
       "      <td>0.0</td>\n",
       "      <td>0.0</td>\n",
       "      <td>...</td>\n",
       "      <td>0.0</td>\n",
       "      <td>0.0</td>\n",
       "      <td>0.0</td>\n",
       "      <td>0.0</td>\n",
       "      <td>0.0</td>\n",
       "      <td>0.0</td>\n",
       "      <td>0.0</td>\n",
       "      <td>0.0</td>\n",
       "      <td>0.0</td>\n",
       "      <td>0.0</td>\n",
       "    </tr>\n",
       "    <tr>\n",
       "      <th>1</th>\n",
       "      <td>0.0</td>\n",
       "      <td>0.0</td>\n",
       "      <td>0.0</td>\n",
       "      <td>0.0</td>\n",
       "      <td>0.0</td>\n",
       "      <td>0.0</td>\n",
       "      <td>0.0</td>\n",
       "      <td>0.0</td>\n",
       "      <td>0.0</td>\n",
       "      <td>0.0</td>\n",
       "      <td>...</td>\n",
       "      <td>0.0</td>\n",
       "      <td>0.0</td>\n",
       "      <td>0.0</td>\n",
       "      <td>0.0</td>\n",
       "      <td>0.0</td>\n",
       "      <td>0.0</td>\n",
       "      <td>0.0</td>\n",
       "      <td>0.0</td>\n",
       "      <td>0.0</td>\n",
       "      <td>0.0</td>\n",
       "    </tr>\n",
       "    <tr>\n",
       "      <th>2</th>\n",
       "      <td>0.0</td>\n",
       "      <td>0.0</td>\n",
       "      <td>0.0</td>\n",
       "      <td>0.0</td>\n",
       "      <td>0.0</td>\n",
       "      <td>0.0</td>\n",
       "      <td>0.0</td>\n",
       "      <td>0.0</td>\n",
       "      <td>0.0</td>\n",
       "      <td>0.0</td>\n",
       "      <td>...</td>\n",
       "      <td>0.0</td>\n",
       "      <td>0.0</td>\n",
       "      <td>0.0</td>\n",
       "      <td>0.0</td>\n",
       "      <td>0.0</td>\n",
       "      <td>0.0</td>\n",
       "      <td>0.0</td>\n",
       "      <td>0.0</td>\n",
       "      <td>0.0</td>\n",
       "      <td>0.0</td>\n",
       "    </tr>\n",
       "    <tr>\n",
       "      <th>3</th>\n",
       "      <td>0.0</td>\n",
       "      <td>0.0</td>\n",
       "      <td>0.0</td>\n",
       "      <td>0.0</td>\n",
       "      <td>0.0</td>\n",
       "      <td>0.0</td>\n",
       "      <td>0.0</td>\n",
       "      <td>0.0</td>\n",
       "      <td>0.0</td>\n",
       "      <td>0.0</td>\n",
       "      <td>...</td>\n",
       "      <td>0.0</td>\n",
       "      <td>0.0</td>\n",
       "      <td>0.0</td>\n",
       "      <td>0.0</td>\n",
       "      <td>0.0</td>\n",
       "      <td>0.0</td>\n",
       "      <td>0.0</td>\n",
       "      <td>0.0</td>\n",
       "      <td>0.0</td>\n",
       "      <td>0.0</td>\n",
       "    </tr>\n",
       "    <tr>\n",
       "      <th>4</th>\n",
       "      <td>0.0</td>\n",
       "      <td>0.0</td>\n",
       "      <td>0.0</td>\n",
       "      <td>0.0</td>\n",
       "      <td>0.0</td>\n",
       "      <td>0.0</td>\n",
       "      <td>0.0</td>\n",
       "      <td>0.0</td>\n",
       "      <td>0.0</td>\n",
       "      <td>0.0</td>\n",
       "      <td>...</td>\n",
       "      <td>0.0</td>\n",
       "      <td>0.0</td>\n",
       "      <td>0.0</td>\n",
       "      <td>0.0</td>\n",
       "      <td>0.0</td>\n",
       "      <td>0.0</td>\n",
       "      <td>0.0</td>\n",
       "      <td>0.0</td>\n",
       "      <td>0.0</td>\n",
       "      <td>0.0</td>\n",
       "    </tr>\n",
       "  </tbody>\n",
       "</table>\n",
       "<p>5 rows × 9603 columns</p>\n",
       "</div>"
      ],
      "text/plain": [
       "    aa  aacgtmjui  aaliyah  aaron  aass   ab  aback  abandon  abbott  abbrevi  \\\n",
       "0  0.0        0.0      0.0    0.0   0.0  0.0    0.0      0.0     0.0      0.0   \n",
       "1  0.0        0.0      0.0    0.0   0.0  0.0    0.0      0.0     0.0      0.0   \n",
       "2  0.0        0.0      0.0    0.0   0.0  0.0    0.0      0.0     0.0      0.0   \n",
       "3  0.0        0.0      0.0    0.0   0.0  0.0    0.0      0.0     0.0      0.0   \n",
       "4  0.0        0.0      0.0    0.0   0.0  0.0    0.0      0.0     0.0      0.0   \n",
       "\n",
       "   ...  zoo  zoom  zorgt   zq   zr  ztiu  zuck  zuckerberg  zvhm  zwhvc  \n",
       "0  ...  0.0   0.0    0.0  0.0  0.0   0.0   0.0         0.0   0.0    0.0  \n",
       "1  ...  0.0   0.0    0.0  0.0  0.0   0.0   0.0         0.0   0.0    0.0  \n",
       "2  ...  0.0   0.0    0.0  0.0  0.0   0.0   0.0         0.0   0.0    0.0  \n",
       "3  ...  0.0   0.0    0.0  0.0  0.0   0.0   0.0         0.0   0.0    0.0  \n",
       "4  ...  0.0   0.0    0.0  0.0  0.0   0.0   0.0         0.0   0.0    0.0  \n",
       "\n",
       "[5 rows x 9603 columns]"
      ]
     },
     "execution_count": 28,
     "metadata": {},
     "output_type": "execute_result"
    }
   ],
   "source": [
    "df = pd.DataFrame(tvec.fit_transform(X_train).toarray(),\n",
    "                  columns=tvec.get_feature_names())\n",
    "df.head()"
   ]
  },
  {
   "cell_type": "markdown",
   "metadata": {},
   "source": [
    "#### Designing a pipeline for TF-IDF analysis"
   ]
  },
  {
   "cell_type": "code",
   "execution_count": 29,
   "metadata": {},
   "outputs": [],
   "source": [
    "# Set up a pipeline with tf-idf vectorizer and multinomial naive bayes\n",
    "\n",
    "pipe_tvec = Pipeline([\n",
    "    ('tvec', TfidfVectorizer()),\n",
    "    ('nb', MultinomialNB())\n",
    "])"
   ]
  },
  {
   "cell_type": "code",
   "execution_count": 30,
   "metadata": {},
   "outputs": [],
   "source": [
    "# Search over the following values of hyperparameters:\n",
    "# Maximum number of features fit: 2000, 3000, 4000, 5000\n",
    "# No stop words and english stop words\n",
    "# Check (individual tokens) and also check (individual tokens and 2-grams).\n",
    "\n",
    "pipe_tvec_params = {\n",
    "    'tvec__max_features': [2_000, 3_000, 4_000, 5_000],\n",
    "    'tvec__stop_words': [list_stop_words, 'english'],\n",
    "    'tvec__ngram_range': [(1,1), (1,2)]\n",
    "}"
   ]
  },
  {
   "cell_type": "code",
   "execution_count": 31,
   "metadata": {},
   "outputs": [],
   "source": [
    "# Instantiate GridSearchCV.\n",
    "\n",
    "gs_tvec = GridSearchCV(pipe_tvec, # what object are we optimizing?\n",
    "                        param_grid = pipe_tvec_params, # what parameters values are we searching?\n",
    "                        cv=5) # 5-fold cross-validation."
   ]
  },
  {
   "cell_type": "code",
   "execution_count": 32,
   "metadata": {},
   "outputs": [],
   "source": [
    "# Fit GridSearch to training data.\n",
    "gs_tvec.fit(X_train, y_train);"
   ]
  },
  {
   "cell_type": "code",
   "execution_count": 33,
   "metadata": {},
   "outputs": [
    {
     "data": {
      "text/plain": [
       "0.95051686154889"
      ]
     },
     "execution_count": 33,
     "metadata": {},
     "output_type": "execute_result"
    }
   ],
   "source": [
    "# Score model on training set.\n",
    "gs_tvec.score(X_train, y_train)"
   ]
  },
  {
   "cell_type": "code",
   "execution_count": 34,
   "metadata": {},
   "outputs": [
    {
     "data": {
      "text/plain": [
       "0.9166243009659379"
      ]
     },
     "execution_count": 34,
     "metadata": {},
     "output_type": "execute_result"
    }
   ],
   "source": [
    "# Score model on testing set.\n",
    "gs_tvec.score(X_test, y_test)"
   ]
  },
  {
   "cell_type": "code",
   "execution_count": 35,
   "metadata": {},
   "outputs": [
    {
     "name": "stdout",
     "output_type": "stream",
     "text": [
      "Specificity: 0.9339430894308943\n"
     ]
    }
   ],
   "source": [
    "# Get predictions\n",
    "preds_tvec = gs_tvec.predict(X_test)\n",
    "\n",
    "# Save confusion matrix values\n",
    "tn, fp, fn, tp = confusion_matrix(y_test, preds_tvec).ravel()\n",
    "\n",
    "# Calculate the specificity\n",
    "\n",
    "spec = tn / (tn + fp)\n",
    "\n",
    "print('Specificity:', spec)"
   ]
  },
  {
   "cell_type": "code",
   "execution_count": 36,
   "metadata": {},
   "outputs": [
    {
     "data": {
      "image/png": "[encoded data removed]",
      "text/plain": [
       "<Figure size 432x288 with 2 Axes>"
      ]
     },
     "metadata": {
      "needs_background": "light"
     },
     "output_type": "display_data"
    }
   ],
   "source": [
    "# visualize this\n",
    "\n",
    "plot_confusion_matrix(gs_tvec, X_test, y_test, cmap='Blues', values_format='d');"
   ]
  },
  {
   "cell_type": "markdown",
   "metadata": {},
   "source": [
    "## Part 4.4- **Logistic Regression** <br><br> (on numeric and text data)"
   ]
  },
  {
   "cell_type": "markdown",
   "metadata": {},
   "source": [
    "DEsigning the pipeline:"
   ]
  },
  {
   "cell_type": "code",
   "execution_count": 37,
   "metadata": {},
   "outputs": [
    {
     "data": {
      "text/html": [
       "<div>\n",
       "<style scoped>\n",
       "    .dataframe tbody tr th:only-of-type {\n",
       "        vertical-align: middle;\n",
       "    }\n",
       "\n",
       "    .dataframe tbody tr th {\n",
       "        vertical-align: top;\n",
       "    }\n",
       "\n",
       "    .dataframe thead th {\n",
       "        text-align: right;\n",
       "    }\n",
       "</style>\n",
       "<table border=\"1\" class=\"dataframe\">\n",
       "  <thead>\n",
       "    <tr style=\"text-align: right;\">\n",
       "      <th></th>\n",
       "      <th>author</th>\n",
       "      <th>created_utc</th>\n",
       "      <th>id</th>\n",
       "      <th>num_comments</th>\n",
       "      <th>over_18</th>\n",
       "      <th>post_hint</th>\n",
       "      <th>score</th>\n",
       "      <th>subreddit_subscribers</th>\n",
       "      <th>text_merged</th>\n",
       "      <th>subreddit</th>\n",
       "      <th>text_char_count</th>\n",
       "      <th>text_word_count</th>\n",
       "      <th>sentiment_score</th>\n",
       "      <th>date</th>\n",
       "      <th>target</th>\n",
       "      <th>wua</th>\n",
       "    </tr>\n",
       "  </thead>\n",
       "  <tbody>\n",
       "    <tr>\n",
       "      <th>0</th>\n",
       "      <td>Kafka15</td>\n",
       "      <td>1593554514</td>\n",
       "      <td>hixbtf</td>\n",
       "      <td>2</td>\n",
       "      <td>0</td>\n",
       "      <td>image</td>\n",
       "      <td>1</td>\n",
       "      <td>6157.0</td>\n",
       "      <td>cum</td>\n",
       "      <td>GlobalWarming</td>\n",
       "      <td>3</td>\n",
       "      <td>1</td>\n",
       "      <td>0.0000</td>\n",
       "      <td>2020-06-30 22:01:54</td>\n",
       "      <td>1</td>\n",
       "      <td>0.0</td>\n",
       "    </tr>\n",
       "    <tr>\n",
       "      <th>1</th>\n",
       "      <td>karan_negiiiii</td>\n",
       "      <td>1593497051</td>\n",
       "      <td>hihj6s</td>\n",
       "      <td>0</td>\n",
       "      <td>0</td>\n",
       "      <td>Empty</td>\n",
       "      <td>1</td>\n",
       "      <td>6156.0</td>\n",
       "      <td>chang india</td>\n",
       "      <td>GlobalWarming</td>\n",
       "      <td>18</td>\n",
       "      <td>3</td>\n",
       "      <td>0.0000</td>\n",
       "      <td>2020-06-30 06:04:11</td>\n",
       "      <td>1</td>\n",
       "      <td>1.0</td>\n",
       "    </tr>\n",
       "    <tr>\n",
       "      <th>2</th>\n",
       "      <td>Hildavardr</td>\n",
       "      <td>1593479932</td>\n",
       "      <td>hidb5h</td>\n",
       "      <td>0</td>\n",
       "      <td>0</td>\n",
       "      <td>Empty</td>\n",
       "      <td>1</td>\n",
       "      <td>6154.0</td>\n",
       "      <td>respons big compani</td>\n",
       "      <td>GlobalWarming</td>\n",
       "      <td>37</td>\n",
       "      <td>6</td>\n",
       "      <td>0.2263</td>\n",
       "      <td>2020-06-30 01:18:52</td>\n",
       "      <td>1</td>\n",
       "      <td>2.0</td>\n",
       "    </tr>\n",
       "    <tr>\n",
       "      <th>3</th>\n",
       "      <td>pEppapiGistfuhrer</td>\n",
       "      <td>1593455137</td>\n",
       "      <td>hi5h41</td>\n",
       "      <td>1</td>\n",
       "      <td>0</td>\n",
       "      <td>image</td>\n",
       "      <td>1</td>\n",
       "      <td>6152.0</td>\n",
       "      <td>ayi let stop</td>\n",
       "      <td>GlobalWarming</td>\n",
       "      <td>24</td>\n",
       "      <td>5</td>\n",
       "      <td>-0.0772</td>\n",
       "      <td>2020-06-29 18:25:37</td>\n",
       "      <td>1</td>\n",
       "      <td>1.0</td>\n",
       "    </tr>\n",
       "    <tr>\n",
       "      <th>4</th>\n",
       "      <td>BrexitBlaze</td>\n",
       "      <td>1593455005</td>\n",
       "      <td>hi5feq</td>\n",
       "      <td>2</td>\n",
       "      <td>0</td>\n",
       "      <td>link</td>\n",
       "      <td>2</td>\n",
       "      <td>6152.0</td>\n",
       "      <td>uk minist send mix messag commit say fund mana...</td>\n",
       "      <td>GlobalWarming</td>\n",
       "      <td>66</td>\n",
       "      <td>13</td>\n",
       "      <td>0.2960</td>\n",
       "      <td>2020-06-29 18:23:25</td>\n",
       "      <td>1</td>\n",
       "      <td>8.0</td>\n",
       "    </tr>\n",
       "    <tr>\n",
       "      <th>...</th>\n",
       "      <td>...</td>\n",
       "      <td>...</td>\n",
       "      <td>...</td>\n",
       "      <td>...</td>\n",
       "      <td>...</td>\n",
       "      <td>...</td>\n",
       "      <td>...</td>\n",
       "      <td>...</td>\n",
       "      <td>...</td>\n",
       "      <td>...</td>\n",
       "      <td>...</td>\n",
       "      <td>...</td>\n",
       "      <td>...</td>\n",
       "      <td>...</td>\n",
       "      <td>...</td>\n",
       "      <td>...</td>\n",
       "    </tr>\n",
       "    <tr>\n",
       "      <th>4823</th>\n",
       "      <td>[deleted]</td>\n",
       "      <td>1349719843</td>\n",
       "      <td>115d9u</td>\n",
       "      <td>0</td>\n",
       "      <td>0</td>\n",
       "      <td>Empty</td>\n",
       "      <td>0</td>\n",
       "      <td>2610.5</td>\n",
       "      <td>us air forc superson fli saucer declassifi</td>\n",
       "      <td>ConspiracyTheory</td>\n",
       "      <td>42</td>\n",
       "      <td>7</td>\n",
       "      <td>0.0000</td>\n",
       "      <td>2012-10-08 18:10:43</td>\n",
       "      <td>0</td>\n",
       "      <td>4.0</td>\n",
       "    </tr>\n",
       "    <tr>\n",
       "      <th>4824</th>\n",
       "      <td>[deleted]</td>\n",
       "      <td>1348231298</td>\n",
       "      <td>108ubr</td>\n",
       "      <td>0</td>\n",
       "      <td>0</td>\n",
       "      <td>Empty</td>\n",
       "      <td>1</td>\n",
       "      <td>2610.5</td>\n",
       "      <td>dae think sin ruin r fascist totalitarian pers...</td>\n",
       "      <td>ConspiracyTheory</td>\n",
       "      <td>500</td>\n",
       "      <td>81</td>\n",
       "      <td>-0.9857</td>\n",
       "      <td>2012-09-21 12:41:38</td>\n",
       "      <td>0</td>\n",
       "      <td>79.0</td>\n",
       "    </tr>\n",
       "    <tr>\n",
       "      <th>4825</th>\n",
       "      <td>[deleted]</td>\n",
       "      <td>1347716678</td>\n",
       "      <td>zxb87</td>\n",
       "      <td>1</td>\n",
       "      <td>0</td>\n",
       "      <td>Empty</td>\n",
       "      <td>9</td>\n",
       "      <td>2610.5</td>\n",
       "      <td>subreddit empti</td>\n",
       "      <td>ConspiracyTheory</td>\n",
       "      <td>26</td>\n",
       "      <td>3</td>\n",
       "      <td>0.0000</td>\n",
       "      <td>2012-09-15 13:44:38</td>\n",
       "      <td>0</td>\n",
       "      <td>1.0</td>\n",
       "    </tr>\n",
       "    <tr>\n",
       "      <th>4826</th>\n",
       "      <td>aayawa</td>\n",
       "      <td>1344626686</td>\n",
       "      <td>y0fkg</td>\n",
       "      <td>3</td>\n",
       "      <td>0</td>\n",
       "      <td>Empty</td>\n",
       "      <td>0</td>\n",
       "      <td>2610.5</td>\n",
       "      <td>one world govern possibl stabl</td>\n",
       "      <td>ConspiracyTheory</td>\n",
       "      <td>30</td>\n",
       "      <td>5</td>\n",
       "      <td>0.0000</td>\n",
       "      <td>2012-08-10 19:24:46</td>\n",
       "      <td>0</td>\n",
       "      <td>3.0</td>\n",
       "    </tr>\n",
       "    <tr>\n",
       "      <th>4827</th>\n",
       "      <td>[deleted]</td>\n",
       "      <td>1344530968</td>\n",
       "      <td>xy38a</td>\n",
       "      <td>1</td>\n",
       "      <td>0</td>\n",
       "      <td>Empty</td>\n",
       "      <td>2</td>\n",
       "      <td>2610.5</td>\n",
       "      <td>strang post</td>\n",
       "      <td>ConspiracyTheory</td>\n",
       "      <td>11</td>\n",
       "      <td>2</td>\n",
       "      <td>0.0000</td>\n",
       "      <td>2012-08-09 16:49:28</td>\n",
       "      <td>0</td>\n",
       "      <td>1.0</td>\n",
       "    </tr>\n",
       "  </tbody>\n",
       "</table>\n",
       "<p>4828 rows × 16 columns</p>\n",
       "</div>"
      ],
      "text/plain": [
       "                 author  created_utc      id  num_comments  over_18 post_hint  \\\n",
       "0               Kafka15   1593554514  hixbtf             2        0     image   \n",
       "1        karan_negiiiii   1593497051  hihj6s             0        0     Empty   \n",
       "2            Hildavardr   1593479932  hidb5h             0        0     Empty   \n",
       "3     pEppapiGistfuhrer   1593455137  hi5h41             1        0     image   \n",
       "4           BrexitBlaze   1593455005  hi5feq             2        0      link   \n",
       "...                 ...          ...     ...           ...      ...       ...   \n",
       "4823          [deleted]   1349719843  115d9u             0        0     Empty   \n",
       "4824          [deleted]   1348231298  108ubr             0        0     Empty   \n",
       "4825          [deleted]   1347716678   zxb87             1        0     Empty   \n",
       "4826             aayawa   1344626686   y0fkg             3        0     Empty   \n",
       "4827          [deleted]   1344530968   xy38a             1        0     Empty   \n",
       "\n",
       "      score  subreddit_subscribers  \\\n",
       "0         1                 6157.0   \n",
       "1         1                 6156.0   \n",
       "2         1                 6154.0   \n",
       "3         1                 6152.0   \n",
       "4         2                 6152.0   \n",
       "...     ...                    ...   \n",
       "4823      0                 2610.5   \n",
       "4824      1                 2610.5   \n",
       "4825      9                 2610.5   \n",
       "4826      0                 2610.5   \n",
       "4827      2                 2610.5   \n",
       "\n",
       "                                            text_merged         subreddit  \\\n",
       "0                                                   cum     GlobalWarming   \n",
       "1                                           chang india     GlobalWarming   \n",
       "2                                   respons big compani     GlobalWarming   \n",
       "3                                          ayi let stop     GlobalWarming   \n",
       "4     uk minist send mix messag commit say fund mana...     GlobalWarming   \n",
       "...                                                 ...               ...   \n",
       "4823         us air forc superson fli saucer declassifi  ConspiracyTheory   \n",
       "4824  dae think sin ruin r fascist totalitarian pers...  ConspiracyTheory   \n",
       "4825                                    subreddit empti  ConspiracyTheory   \n",
       "4826                     one world govern possibl stabl  ConspiracyTheory   \n",
       "4827                                        strang post  ConspiracyTheory   \n",
       "\n",
       "      text_char_count  text_word_count  sentiment_score                date  \\\n",
       "0                   3                1           0.0000 2020-06-30 22:01:54   \n",
       "1                  18                3           0.0000 2020-06-30 06:04:11   \n",
       "2                  37                6           0.2263 2020-06-30 01:18:52   \n",
       "3                  24                5          -0.0772 2020-06-29 18:25:37   \n",
       "4                  66               13           0.2960 2020-06-29 18:23:25   \n",
       "...               ...              ...              ...                 ...   \n",
       "4823               42                7           0.0000 2012-10-08 18:10:43   \n",
       "4824              500               81          -0.9857 2012-09-21 12:41:38   \n",
       "4825               26                3           0.0000 2012-09-15 13:44:38   \n",
       "4826               30                5           0.0000 2012-08-10 19:24:46   \n",
       "4827               11                2           0.0000 2012-08-09 16:49:28   \n",
       "\n",
       "      target   wua  \n",
       "0          1   0.0  \n",
       "1          1   1.0  \n",
       "2          1   2.0  \n",
       "3          1   1.0  \n",
       "4          1   8.0  \n",
       "...      ...   ...  \n",
       "4823       0   4.0  \n",
       "4824       0  79.0  \n",
       "4825       0   1.0  \n",
       "4826       0   3.0  \n",
       "4827       0   1.0  \n",
       "\n",
       "[4828 rows x 16 columns]"
      ]
     },
     "execution_count": 37,
     "metadata": {},
     "output_type": "execute_result"
    }
   ],
   "source": [
    "df_reddit"
   ]
  },
  {
   "cell_type": "markdown",
   "metadata": {},
   "source": [
    "Step 1: defining transfomrers:"
   ]
  },
  {
   "cell_type": "code",
   "execution_count": 38,
   "metadata": {},
   "outputs": [],
   "source": [
    "# create functions to return just the columns that you care about\n",
    "get_text_data= FunctionTransformer(lambda x: x['text_merged'], validate = False)\n",
    "get_numeric_data = FunctionTransformer(lambda x: x[['text_char_count', 'text_word_count', \"sentiment_score\", \"score\", \"over_18\", \"wua\"]], validate = False)"
   ]
  },
  {
   "cell_type": "code",
   "execution_count": 39,
   "metadata": {},
   "outputs": [],
   "source": [
    "X = df_reddit[[\"text_merged\",'text_char_count', 'text_word_count', \"sentiment_score\", \"score\", \"over_18\", \"wua\"]]\n",
    "y = df_reddit['target']\n",
    "\n",
    "np.random.seed(42)\n",
    "\n",
    "X_train, X_test, y_train, y_test = train_test_split(X,y)"
   ]
  },
  {
   "cell_type": "markdown",
   "metadata": {},
   "source": [
    "Pipe 3: Scale the numeric"
   ]
  },
  {
   "cell_type": "code",
   "execution_count": 40,
   "metadata": {},
   "outputs": [
    {
     "data": {
      "text/plain": [
       "0.9781828224247445"
      ]
     },
     "execution_count": 40,
     "metadata": {},
     "output_type": "execute_result"
    }
   ],
   "source": [
    "pipe_v3 = Pipeline([\n",
    "    ('features', FeatureUnion([\n",
    "            ('numeric_features', Pipeline([\n",
    "                ('selector', get_numeric_data),\n",
    "                ('ss', StandardScaler())\n",
    "            ])),\n",
    "            ('text_features', Pipeline([\n",
    "                ('selector', get_text_data),\n",
    "                ('cvec', CountVectorizer())\n",
    "            ]))\n",
    "    ])),\n",
    "    ('logreg', LogisticRegression())\n",
    "])\n",
    "\n",
    "params = {\n",
    "            #'cvec__stop_words' : [list_stop_words, 'english'],\n",
    "           'logreg__penalty' : ['l1', 'l2']\n",
    "}\n",
    "\n",
    "gs = GridSearchCV(pipe_v3, params, cv=5)\n",
    "\n",
    "gs.fit(X_train, y_train)\n",
    "gs.score(X_train, y_train)\n",
    "\n"
   ]
  },
  {
   "cell_type": "code",
   "execution_count": 41,
   "metadata": {},
   "outputs": [
    {
     "name": "stdout",
     "output_type": "stream",
     "text": [
      "0.9781828224247445\n",
      "0.9063794531897266\n"
     ]
    }
   ],
   "source": [
    "print(gs.score(X_train, y_train))\n",
    "print(gs.score(X_test, y_test))"
   ]
  },
  {
   "cell_type": "markdown",
   "metadata": {},
   "source": []
  },
  {
   "cell_type": "code",
   "execution_count": 42,
   "metadata": {},
   "outputs": [],
   "source": [
    "def nice_conmat(y_test, preds, classes):\n",
    "\n",
    "    conmat = confusion_matrix(y_test, preds)\n",
    "    print(f'Accuracy Score: {accuracy_score(y_test, preds)}')\n",
    "    return pd.DataFrame(conmat, columns=['Predicted ' +class_ for class_ in classes], \\\n",
    "                index=['Actual '+ class_ for class_ in classes])"
   ]
  },
  {
   "cell_type": "code",
   "execution_count": 43,
   "metadata": {},
   "outputs": [
    {
     "name": "stdout",
     "output_type": "stream",
     "text": [
      "Accuracy Score: 0.9063794531897266\n"
     ]
    },
    {
     "data": {
      "text/html": [
       "<div>\n",
       "<style scoped>\n",
       "    .dataframe tbody tr th:only-of-type {\n",
       "        vertical-align: middle;\n",
       "    }\n",
       "\n",
       "    .dataframe tbody tr th {\n",
       "        vertical-align: top;\n",
       "    }\n",
       "\n",
       "    .dataframe thead th {\n",
       "        text-align: right;\n",
       "    }\n",
       "</style>\n",
       "<table border=\"1\" class=\"dataframe\">\n",
       "  <thead>\n",
       "    <tr style=\"text-align: right;\">\n",
       "      <th></th>\n",
       "      <th>Predicted consp</th>\n",
       "      <th>Predicted globalwarming</th>\n",
       "    </tr>\n",
       "  </thead>\n",
       "  <tbody>\n",
       "    <tr>\n",
       "      <th>Actual consp</th>\n",
       "      <td>126</td>\n",
       "      <td>104</td>\n",
       "    </tr>\n",
       "    <tr>\n",
       "      <th>Actual globalwarming</th>\n",
       "      <td>9</td>\n",
       "      <td>968</td>\n",
       "    </tr>\n",
       "  </tbody>\n",
       "</table>\n",
       "</div>"
      ],
      "text/plain": [
       "                      Predicted consp  Predicted globalwarming\n",
       "Actual consp                      126                      104\n",
       "Actual globalwarming                9                      968"
      ]
     },
     "execution_count": 43,
     "metadata": {},
     "output_type": "execute_result"
    }
   ],
   "source": [
    "# build a function to print out a nice confusion matrix\n",
    "preds = gs.best_estimator_.predict(X_test)\n",
    "\n",
    "nice_conmat(y_test, preds, ['consp', 'globalwarming'])"
   ]
  },
  {
   "cell_type": "code",
   "execution_count": 44,
   "metadata": {},
   "outputs": [],
   "source": [
    "#coefficients\n",
    "coefficients = gs.best_estimator_.named_steps['logreg'].coef_[0]"
   ]
  },
  {
   "cell_type": "code",
   "execution_count": 45,
   "metadata": {},
   "outputs": [
    {
     "data": {
      "text/plain": [
       "Pipeline(steps=[('features',\n",
       "                 FeatureUnion(transformer_list=[('numeric_features',\n",
       "                                                 Pipeline(steps=[('selector',\n",
       "                                                                  FunctionTransformer(func=<function <lambda> at 0x7f808d82bb00>)),\n",
       "                                                                 ('ss',\n",
       "                                                                  StandardScaler())])),\n",
       "                                                ('text_features',\n",
       "                                                 Pipeline(steps=[('selector',\n",
       "                                                                  FunctionTransformer(func=<function <lambda> at 0x7f808d82b9e0>)),\n",
       "                                                                 ('cvec',\n",
       "                                                                  CountVectorizer())]))])),\n",
       "                ('logreg', LogisticRegression())])"
      ]
     },
     "execution_count": 45,
     "metadata": {},
     "output_type": "execute_result"
    }
   ],
   "source": [
    "# Best model in gridsearchCV\n",
    "# Object is a Pipeline\n",
    "gs.best_estimator_"
   ]
  },
  {
   "cell_type": "code",
   "execution_count": 46,
   "metadata": {},
   "outputs": [],
   "source": [
    "features = gs.best_estimator_.named_steps['features'].transformer_list[1][1].named_steps['cvec'].get_feature_names()"
   ]
  },
  {
   "cell_type": "code",
   "execution_count": 47,
   "metadata": {},
   "outputs": [],
   "source": [
    "features = ['text_char_count', 'text_word_count', \"sentiment_score\", \"score\", \"over_18\", \"wua\"] +\\\n",
    "gs.best_estimator_.named_steps['features'].transformer_list[1][1].named_steps['cvec'].get_feature_names()\n",
    "\n",
    "# no changes to our coefficient variable:\n",
    "# I'm just bringing it down here\n",
    "coefficients = gs.best_estimator_.named_steps['logreg'].coef_[0]"
   ]
  },
  {
   "cell_type": "code",
   "execution_count": 48,
   "metadata": {},
   "outputs": [
    {
     "data": {
      "text/html": [
       "<div>\n",
       "<style scoped>\n",
       "    .dataframe tbody tr th:only-of-type {\n",
       "        vertical-align: middle;\n",
       "    }\n",
       "\n",
       "    .dataframe tbody tr th {\n",
       "        vertical-align: top;\n",
       "    }\n",
       "\n",
       "    .dataframe thead th {\n",
       "        text-align: right;\n",
       "    }\n",
       "</style>\n",
       "<table border=\"1\" class=\"dataframe\">\n",
       "  <thead>\n",
       "    <tr style=\"text-align: right;\">\n",
       "      <th></th>\n",
       "      <th>features</th>\n",
       "      <th>coef</th>\n",
       "      <th>exp_coef</th>\n",
       "    </tr>\n",
       "  </thead>\n",
       "  <tbody>\n",
       "    <tr>\n",
       "      <th>0</th>\n",
       "      <td>text_char_count</td>\n",
       "      <td>-1.005011</td>\n",
       "      <td>0.366041</td>\n",
       "    </tr>\n",
       "    <tr>\n",
       "      <th>1</th>\n",
       "      <td>text_word_count</td>\n",
       "      <td>-0.451835</td>\n",
       "      <td>0.636459</td>\n",
       "    </tr>\n",
       "    <tr>\n",
       "      <th>2</th>\n",
       "      <td>sentiment_score</td>\n",
       "      <td>0.604709</td>\n",
       "      <td>1.830720</td>\n",
       "    </tr>\n",
       "    <tr>\n",
       "      <th>3</th>\n",
       "      <td>score</td>\n",
       "      <td>0.812410</td>\n",
       "      <td>2.253331</td>\n",
       "    </tr>\n",
       "    <tr>\n",
       "      <th>4</th>\n",
       "      <td>over_18</td>\n",
       "      <td>-0.094325</td>\n",
       "      <td>0.909987</td>\n",
       "    </tr>\n",
       "    <tr>\n",
       "      <th>5</th>\n",
       "      <td>wua</td>\n",
       "      <td>-1.583840</td>\n",
       "      <td>0.205186</td>\n",
       "    </tr>\n",
       "    <tr>\n",
       "      <th>6</th>\n",
       "      <td>aa</td>\n",
       "      <td>0.000103</td>\n",
       "      <td>1.000103</td>\n",
       "    </tr>\n",
       "    <tr>\n",
       "      <th>7</th>\n",
       "      <td>aaaaaaacixu</td>\n",
       "      <td>0.000004</td>\n",
       "      <td>1.000004</td>\n",
       "    </tr>\n",
       "    <tr>\n",
       "      <th>8</th>\n",
       "      <td>aacgtmjui</td>\n",
       "      <td>-0.000159</td>\n",
       "      <td>0.999841</td>\n",
       "    </tr>\n",
       "    <tr>\n",
       "      <th>9</th>\n",
       "      <td>aaliyah</td>\n",
       "      <td>-0.000159</td>\n",
       "      <td>0.999841</td>\n",
       "    </tr>\n",
       "  </tbody>\n",
       "</table>\n",
       "</div>"
      ],
      "text/plain": [
       "          features      coef  exp_coef\n",
       "0  text_char_count -1.005011  0.366041\n",
       "1  text_word_count -0.451835  0.636459\n",
       "2  sentiment_score  0.604709  1.830720\n",
       "3            score  0.812410  2.253331\n",
       "4          over_18 -0.094325  0.909987\n",
       "5              wua -1.583840  0.205186\n",
       "6               aa  0.000103  1.000103\n",
       "7      aaaaaaacixu  0.000004  1.000004\n",
       "8        aacgtmjui -0.000159  0.999841\n",
       "9          aaliyah -0.000159  0.999841"
      ]
     },
     "execution_count": 48,
     "metadata": {},
     "output_type": "execute_result"
    }
   ],
   "source": [
    "coef_df = pd.DataFrame({'features': features, \n",
    "              'coef' : coefficients,\n",
    "              'exp_coef': [np.exp(coef) for coef in coefficients] #exponentiated coefficients\n",
    "             })\n",
    "\n",
    "coef_df.head(10)"
   ]
  },
  {
   "cell_type": "markdown",
   "metadata": {},
   "source": [
    "# Interpretation: The numerical table do not seem to make much much imporvement on the score."
   ]
  },
  {
   "cell_type": "markdown",
   "metadata": {},
   "source": [
    "Fancy Schmancy Graphs maybe"
   ]
  },
  {
   "cell_type": "code",
   "execution_count": 49,
   "metadata": {},
   "outputs": [
    {
     "data": {
      "text/html": [
       "<div>\n",
       "<style scoped>\n",
       "    .dataframe tbody tr th:only-of-type {\n",
       "        vertical-align: middle;\n",
       "    }\n",
       "\n",
       "    .dataframe tbody tr th {\n",
       "        vertical-align: top;\n",
       "    }\n",
       "\n",
       "    .dataframe thead th {\n",
       "        text-align: right;\n",
       "    }\n",
       "</style>\n",
       "<table border=\"1\" class=\"dataframe\">\n",
       "  <thead>\n",
       "    <tr style=\"text-align: right;\">\n",
       "      <th></th>\n",
       "      <th>coef</th>\n",
       "      <th>exp_coef</th>\n",
       "    </tr>\n",
       "    <tr>\n",
       "      <th>features</th>\n",
       "      <th></th>\n",
       "      <th></th>\n",
       "    </tr>\n",
       "  </thead>\n",
       "  <tbody>\n",
       "    <tr>\n",
       "      <th>chang</th>\n",
       "      <td>2.530258</td>\n",
       "      <td>12.556739</td>\n",
       "    </tr>\n",
       "    <tr>\n",
       "      <th>carbon</th>\n",
       "      <td>1.615289</td>\n",
       "      <td>5.029340</td>\n",
       "    </tr>\n",
       "    <tr>\n",
       "      <th>scientist</th>\n",
       "      <td>1.521986</td>\n",
       "      <td>4.581313</td>\n",
       "    </tr>\n",
       "    <tr>\n",
       "      <th>ice</th>\n",
       "      <td>1.365560</td>\n",
       "      <td>3.917917</td>\n",
       "    </tr>\n",
       "    <tr>\n",
       "      <th>temperatur</th>\n",
       "      <td>1.331630</td>\n",
       "      <td>3.787210</td>\n",
       "    </tr>\n",
       "    <tr>\n",
       "      <th>stop</th>\n",
       "      <td>1.322673</td>\n",
       "      <td>3.753440</td>\n",
       "    </tr>\n",
       "    <tr>\n",
       "      <th>environment</th>\n",
       "      <td>1.267045</td>\n",
       "      <td>3.550347</td>\n",
       "    </tr>\n",
       "    <tr>\n",
       "      <th>environ</th>\n",
       "      <td>1.215856</td>\n",
       "      <td>3.373179</td>\n",
       "    </tr>\n",
       "    <tr>\n",
       "      <th>emiss</th>\n",
       "      <td>1.116443</td>\n",
       "      <td>3.053972</td>\n",
       "    </tr>\n",
       "    <tr>\n",
       "      <th>warn</th>\n",
       "      <td>1.085330</td>\n",
       "      <td>2.960417</td>\n",
       "    </tr>\n",
       "  </tbody>\n",
       "</table>\n",
       "</div>"
      ],
      "text/plain": [
       "                 coef   exp_coef\n",
       "features                        \n",
       "chang        2.530258  12.556739\n",
       "carbon       1.615289   5.029340\n",
       "scientist    1.521986   4.581313\n",
       "ice          1.365560   3.917917\n",
       "temperatur   1.331630   3.787210\n",
       "stop         1.322673   3.753440\n",
       "environment  1.267045   3.550347\n",
       "environ      1.215856   3.373179\n",
       "emiss        1.116443   3.053972\n",
       "warn         1.085330   2.960417"
      ]
     },
     "execution_count": 49,
     "metadata": {},
     "output_type": "execute_result"
    }
   ],
   "source": [
    "coef_df = coef_df.set_index('features')\n",
    "coef_df = coef_df.sort_values('exp_coef', ascending = False)\n",
    "coef_df.head(10)"
   ]
  },
  {
   "cell_type": "code",
   "execution_count": 50,
   "metadata": {},
   "outputs": [
    {
     "data": {
      "text/plain": [
       "features\n",
       "warn            2.960417\n",
       "emiss           3.053972\n",
       "environ         3.373179\n",
       "environment     3.550347\n",
       "stop            3.753440\n",
       "temperatur      3.787210\n",
       "ice             3.917917\n",
       "scientist       4.581313\n",
       "carbon          5.029340\n",
       "chang          12.556739\n",
       "Name: exp_coef, dtype: float64"
      ]
     },
     "execution_count": 50,
     "metadata": {},
     "output_type": "execute_result"
    }
   ],
   "source": [
    "coef_df['exp_coef'].head(10).sort_values()"
   ]
  },
  {
   "cell_type": "code",
   "execution_count": 67,
   "metadata": {},
   "outputs": [
    {
     "data": {
      "image/png": "[encoded data removed]",
      "text/plain": [
       "<Figure size 1080x720 with 1 Axes>"
      ]
     },
     "metadata": {
      "needs_background": "light"
     },
     "output_type": "display_data"
    }
   ],
   "source": [
    "weights = coef_df['exp_coef'].head(10).sort_values()\n",
    "labels = weights.index\n",
    "\n",
    "plt.figure(figsize=(15,10))\n",
    "plt.barh(labels, weights, color = 'green')\n",
    "plt.yticks(fontsize=15)\n",
    "plt.xticks(fontsize=15)\n",
    "plt.xlabel('Exp Coef', fontsize=20)\n",
    "plt.title(f'Top 10 Features - Climate', fontsize=30)\n",
    "plt.tight_layout()\n",
    "\n",
    "plt.savefig(\"../plots/Ranking_top.png\")"
   ]
  },
  {
   "cell_type": "code",
   "execution_count": 103,
   "metadata": {},
   "outputs": [
    {
     "data": {
      "image/png": "[encoded data removed]",
      "text/plain": [
       "<Figure size 1080x720 with 1 Axes>"
      ]
     },
     "metadata": {
      "image/png": {
       "height": 713,
       "width": 1072
      },
      "needs_background": "light"
     },
     "output_type": "display_data"
    }
   ],
   "source": [
    "weights = coef_df['exp_coef'].tail(10).sort_values()\n",
    "labels = weights.index\n",
    "\n",
    "plt.figure(figsize=(15,10))\n",
    "plt.barh(labels, weights, color = 'blue')\n",
    "plt.yticks(fontsize=15)\n",
    "plt.xticks(fontsize=15)\n",
    "plt.xlabel('Exp Coef', fontsize=20)\n",
    "plt.title(f'Bottom 10 Features - Climate', fontsize=30)\n",
    "plt.tight_layout()\n",
    "\n",
    "plt.savefig(\"../plots/Ranking_bottom.png\")"
   ]
  },
  {
   "cell_type": "code",
   "execution_count": 52,
   "metadata": {},
   "outputs": [],
   "source": [
    "def token_time_series(item):\n",
    "\n",
    "    words = [w for w in item.split()]\n",
    "    #print(words)\n",
    "    \n",
    "    token_count = 0\n",
    "    \n",
    "    for word in words:\n",
    "        \n",
    "        if (word == key_word):\n",
    "            token_count += 1\n",
    "    \n",
    "    return token_count"
   ]
  },
  {
   "cell_type": "code",
   "execution_count": 118,
   "metadata": {},
   "outputs": [
    {
     "data": {
      "image/png": "[encoded data removed]",
      "text/plain": [
       "<Figure size 576x432 with 1 Axes>"
      ]
     },
     "metadata": {
      "image/png": {
       "height": 425,
       "width": 569
      },
      "needs_background": "light"
     },
     "output_type": "display_data"
    }
   ],
   "source": [
    "%config InlineBackend.figure_format = 'retina'\n",
    "\n",
    "\n",
    "gw_post_num = 3934\n",
    "\n",
    "\n",
    "plt.figure(figsize=(8,6))\n",
    "\n",
    "\n",
    "weights = coef_df['exp_coef'].head(10).sort_values()\n",
    "labels = weights.index\n",
    "\n",
    "color = [\"black\", \"red\", \"blue\", \"green\", \"purple\"]\n",
    "\n",
    "for i, label in enumerate([\"chang\", \"carbon\", \"scientist\", \"ice\", \"temperatur\"]):\n",
    "    key_word = label\n",
    "    df_reddit_test = df_reddit.copy()\n",
    "        \n",
    "    df_reddit_test.sort_values(\"date\", axis = 0, ascending = False, \n",
    "                 inplace = True) \n",
    "    \n",
    "    \n",
    "    df_reddit_test['token_count'] = df_reddit_test['text_merged'].map(token_time_series)\n",
    "\n",
    "    df_reddit_test['token_count_cum'] = df_reddit_test[\"token_count\"].cumsum()\n",
    "    df_reddit_test['token_count_cum'] = np.max(df_reddit_test['token_count_cum']) - df_reddit_test['token_count_cum']\n",
    "\n",
    "    df_reddit_test = df_reddit_test.set_index('date')\n",
    "    plt.plot(df_reddit_test['token_count_cum'] / gw_post_num, color = color[i], linewidth = 3)\n",
    "    \n",
    "#plt.xlim(2010, 2021)    \n",
    "plt.yticks(fontsize=16)\n",
    "plt.xticks(fontsize=16)\n",
    "plt.xlabel('Year', fontsize=16)\n",
    "plt.ylabel('Word use per post', fontsize=16)\n",
    "\n",
    "plt.title('Cumulative correlated words usage over years', fontsize=16)\n",
    "\n",
    "plt.legend([\"chang\", \"carbon\", \"scientist\", \"ice\", \"temperatur\"], fontsize = 12)\n",
    "plt.tight_layout()\n",
    "\n",
    "#Gtreta thungberg 21/09/2019\n",
    "\n",
    "#plt.vlines(x = np.mean(dataframe[column]), ymin = 0, ymax = np.max((np.histogram(dataframe[column]))[0]), color = 'green', linewidth = 5, alpha = 0.6)\n",
    "#ax[i].text(np.mean(dataframe[column]), np.max((np.histogram(dataframe[column]))[0]), f'mean={round(np.mean(dataframe[column]), 1)}', color = 'green')\n",
    "        \n",
    "plt.savefig(\"../plots/Word_use_top.png\")\n"
   ]
  },
  {
   "cell_type": "code",
   "execution_count": 116,
   "metadata": {},
   "outputs": [
    {
     "data": {
      "image/png": "[encoded data removed]",
      "text/plain": [
       "<Figure size 576x432 with 1 Axes>"
      ]
     },
     "metadata": {
      "image/png": {
       "height": 425,
       "width": 569
      },
      "needs_background": "light"
     },
     "output_type": "display_data"
    }
   ],
   "source": [
    "%config InlineBackend.figure_format = 'retina'\n",
    "\n",
    "\n",
    "plt.figure(figsize=(8,6))\n",
    "\n",
    "ct_post_num = 894\n",
    "\n",
    "weights = coef_df['exp_coef'].head(10).sort_values()\n",
    "labels = weights.index\n",
    "\n",
    "#color = [\"black\", \"red\", \"blue\", \"green\", \"purple\"]\n",
    "alpha_ = [1, 0.8, 0.6, 0.4, 0.2]\n",
    "\n",
    "for i, label in enumerate([\"black\", \"march\", \"iran\", \"moon\", \"ufo\"]):\n",
    "    key_word = label\n",
    "    df_reddit_test = df_reddit.copy()\n",
    "        \n",
    "    df_reddit_test.sort_values(\"date\", axis = 0, ascending = False, \n",
    "                 inplace = True) \n",
    "    \n",
    "    \n",
    "    df_reddit_test['token_count'] = df_reddit_test['text_merged'].map(token_time_series)\n",
    "\n",
    "    df_reddit_test['token_count_cum'] = df_reddit_test[\"token_count\"].cumsum()\n",
    "    df_reddit_test['token_count_cum'] = np.max(df_reddit_test['token_count_cum']) - df_reddit_test['token_count_cum']\n",
    "\n",
    "    df_reddit_test = df_reddit_test.set_index('date')\n",
    "    plt.plot(df_reddit_test['token_count_cum'] / ct_post_num, color = 'red', alpha = alpha_[i], linewidth = 3)\n",
    "    \n",
    "#plt.xlim(2010, 2021)    \n",
    "plt.yticks(fontsize=16)\n",
    "plt.xticks(fontsize=16)\n",
    "plt.xlabel('Year', fontsize=16)\n",
    "plt.ylabel('Word use per post', fontsize=16)\n",
    "\n",
    "\n",
    "plt.title('Cumulative anti-correlated words usage over years', fontsize=16)\n",
    "\n",
    "plt.legend([\"black\", \"march\", \"iran\", \"moon\", \"ufo\"], fontsize = 12)\n",
    "plt.tight_layout()\n",
    "\n",
    "#Gtreta thungberg 21/09/2019\n",
    "\n",
    "#plt.vlines(x = np.mean(dataframe[column]), ymin = 0, ymax = np.max((np.histogram(dataframe[column]))[0]), color = 'green', linewidth = 5, alpha = 0.6)\n",
    "#ax[i].text(np.mean(dataframe[column]), np.max((np.histogram(dataframe[column]))[0]), f'mean={round(np.mean(dataframe[column]), 1)}', color = 'green')\n",
    "        \n",
    "plt.savefig(\"../plots/Word_use_low.png\")\n",
    "\n"
   ]
  },
  {
   "cell_type": "code",
   "execution_count": 54,
   "metadata": {},
   "outputs": [
    {
     "name": "stdout",
     "output_type": "stream",
     "text": [
      "Hello world!\n"
     ]
    }
   ],
   "source": [
    "print(\"Hello world!\")"
   ]
  }
 ],
 "metadata": {
  "kernelspec": {
   "display_name": "Python [conda env:dsi]",
   "language": "python",
   "name": "conda-env-dsi-py"
  },
  "language_info": {
   "codemirror_mode": {
    "name": "ipython",
    "version": 3
   },
   "file_extension": ".py",
   "mimetype": "text/x-python",
   "name": "python",
   "nbconvert_exporter": "python",
   "pygments_lexer": "ipython3",
   "version": "3.7.7"
  }
 },
 "nbformat": 4,
 "nbformat_minor": 4
}
